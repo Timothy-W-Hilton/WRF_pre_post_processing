{
 "cells": [
  {
   "cell_type": "code",
   "execution_count": null,
   "metadata": {},
   "outputs": [],
   "source": [
    "import numpy as np\n",
    "import geoviews as gv\n",
    "gv.extension('bokeh')"
   ]
  },
  {
   "cell_type": "code",
   "execution_count": null,
   "metadata": {},
   "outputs": [],
   "source": [
    "from bokeh.models import FixedTicker\n",
    "min_val = 0\n",
    "max_val = 20\n",
    "number_strings = ['zero', 'one', 'two', 'three', 'four', 'five', 'six', 'seven', 'eight', 'nine', 'ten',\n",
    "                 'eleven', 'twelve', 'thirteen', 'fourteen', 'fifteen', 'sixteen', 'seventeen', \n",
    "                 'eightteen', 'nineteen', 'twenty', 'twentyone']\n",
    "foo = np.random.randint(min_val, max_val, (10, 10))\n",
    "colorbar_opts={'major_label_overrides': {x: number_strings[x] for x in range(max_val)},\n",
    "              'ticker': FixedTicker(ticks=np.linspace(min_val + 0.5, max_val - 0.5, (max_val - min_val) + 1.0)),\n",
    "              'major_label_text_align': 'left'}\n",
    "gv.Image(foo).opts(colorbar=True, cmap='glasbey_dark', colorbar_opts=colorbar_opts, color_levels=max_val)"
   ]
  },
  {
   "cell_type": "code",
   "execution_count": null,
   "metadata": {},
   "outputs": [],
   "source": [
    "tick_locs = np.linspace(min_val + 0.5, max_val - 0.5, (max_val - min_val) + 1.0)\n",
    "tick_labels = {this_tick: \"{:0.2f}asdf\".format(this_tick) for this_tick in tick_locs}\n",
    "colorbar_opts={'major_label_overrides': tick_labels,\n",
    "              'ticker': FixedTicker(ticks=tick_locs),\n",
    "              'major_label_text_align': 'left'}\n",
    "gv.Image(foo).opts(width=400, height=300, colorbar=True, color_levels=max_val, cmap='glasbey_dark', colorbar_opts=colorbar_opts)"
   ]
  }
 ],
 "metadata": {
  "kernelspec": {
   "display_name": "Python 3",
   "language": "python",
   "name": "python3"
  },
  "language_info": {
   "codemirror_mode": {
    "name": "ipython",
    "version": 3
   },
   "file_extension": ".py",
   "mimetype": "text/x-python",
   "name": "python",
   "nbconvert_exporter": "python",
   "pygments_lexer": "ipython3",
   "version": "3.7.3"
  }
 },
 "nbformat": 4,
 "nbformat_minor": 2
}

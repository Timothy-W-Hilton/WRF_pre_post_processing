{
 "cells": [
  {
   "cell_type": "code",
   "execution_count": null,
   "metadata": {},
   "outputs": [],
   "source": [
    "import xarray as xr\n",
    "import hvplot.xarray\n",
    "import cartopy.crs as ccrs\n",
    "import pandas as pd\n",
    "\n",
    "from timutils import describe_environment"
   ]
  },
  {
   "cell_type": "code",
   "execution_count": null,
   "metadata": {},
   "outputs": [],
   "source": [
    "describe_environment.print_env()"
   ]
  },
  {
   "cell_type": "code",
   "execution_count": null,
   "metadata": {},
   "outputs": [],
   "source": [
    "ds = xr.open_dataset('/global/cscratch1/sd/twhilton/WRFv4.1_Experiments/BTRAN_tests/BTRAN_test_001/WRFV4/run/output/BTRAN.nc')"
   ]
  },
  {
   "cell_type": "code",
   "execution_count": null,
   "metadata": {},
   "outputs": [],
   "source": [
    "ds['XLAT'].attrs['long_name'] = 'latitude'\n",
    "ds['XLONG'].attrs['long_name'] = 'longitude'\n",
    "ds['XLAT'].attrs['units'] = 'deg N'\n",
    "ds['XLONG'].attrs['units'] = 'deg E'"
   ]
  },
  {
   "cell_type": "code",
   "execution_count": null,
   "metadata": {},
   "outputs": [],
   "source": [
    "# convert timestamps from numpy.datetime64 to pandas.Timestamp.  \n",
    "# hvplot seems to crash and burn on datetime64.\n",
    "ds = ds.rename_vars({'XTIME': 'Time'})\n",
    "ds = ds.assign_coords({'Time': pd.to_datetime(ds.Time.values)})\n",
    "# remove time dimension from spatial coordinates.  It's constant anyway, \n",
    "# and holoviz doesn't like it.\n",
    "ds = ds.assign({'latitude': ds.XLAT.sel(Time=ds.Time[0]),\n",
    "                'longitude': ds.XLONG.sel(Time=ds.Time[0])})\n",
    "ds = ds.set_coords(('latitude', 'longitude'))"
   ]
  },
  {
   "cell_type": "code",
   "execution_count": null,
   "metadata": {},
   "outputs": [],
   "source": [
    "map_options = {'x': 'longitude',\n",
    "               'y': 'latitude',\n",
    "               'coastline': '50m',\n",
    "               'projection': ccrs.PlateCarree(),\n",
    "               'groupby': 'Time',\n",
    "               'fields': {'Time': {'default': ds['Time'][-1].values}}}"
   ]
  },
  {
   "cell_type": "markdown",
   "metadata": {},
   "source": [
    "soil water transpiration factor varies from 0.0 to 1.0; 0.0 is wilting."
   ]
  },
  {
   "cell_type": "code",
   "execution_count": null,
   "metadata": {},
   "outputs": [],
   "source": [
    "theplot = ds['BTRAN'].hvplot.quadmesh(**map_options,\n",
    "                                      clim=(0, 1),\n",
    "                                      title=ds['BTRAN'].attrs['description'])\n",
    "theplot"
   ]
  },
  {
   "cell_type": "code",
   "execution_count": null,
   "metadata": {
    "scrolled": true
   },
   "outputs": [],
   "source": [
    "delta_btran = ds['BTRAN'].diff(dim='Time')\n",
    "delta_btran.name = '\\u0394BTRAN'\n",
    "tstr = '\\u0394 from previous tstep; {}'.format(ds['BTRAN'].attrs['description'])\n",
    "theplot = delta_btran.hvplot.quadmesh(title=tstr,\n",
    "                                      clim=(-1, 1),\n",
    "                                      cmap=\"RdBu\",\n",
    "                                      **map_options)\n",
    "theplot"
   ]
  }
 ],
 "metadata": {
  "kernelspec": {
   "display_name": "water_stress_viz",
   "language": "python",
   "name": "water_stress_viz"
  },
  "language_info": {
   "codemirror_mode": {
    "name": "ipython",
    "version": 3
   },
   "file_extension": ".py",
   "mimetype": "text/x-python",
   "name": "python",
   "nbconvert_exporter": "python",
   "pygments_lexer": "ipython3",
   "version": "3.7.6"
  }
 },
 "nbformat": 4,
 "nbformat_minor": 2
}

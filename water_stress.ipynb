{
 "cells": [
  {
   "cell_type": "code",
   "execution_count": null,
   "metadata": {},
   "outputs": [],
   "source": [
    "import xarray as xr\n",
    "import hvplot.xarray\n",
    "import cartopy.crs as ccrs\n",
    "\n",
    "from timutils import describe_environment"
   ]
  },
  {
   "cell_type": "code",
   "execution_count": null,
   "metadata": {},
   "outputs": [],
   "source": [
    "describe_environment.print_env()"
   ]
  },
  {
   "cell_type": "code",
   "execution_count": null,
   "metadata": {},
   "outputs": [],
   "source": [
    "ds = xr.open_dataset('/global/cscratch1/sd/twhilton/WRFv4.1_Experiments/BTRAN_tests/BTRAN_test_001/WRFV4/run/output/BTRAN.nc')"
   ]
  },
  {
   "cell_type": "code",
   "execution_count": null,
   "metadata": {},
   "outputs": [],
   "source": [
    "ds['XLAT'].attrs['long_name'] = 'latitude'\n",
    "ds['XLONG'].attrs['long_name'] = 'longitude'\n",
    "ds['XLAT'].attrs['units'] = 'deg N'\n",
    "ds['XLONG'].attrs['units'] = 'deg E'"
   ]
  },
  {
   "cell_type": "code",
   "execution_count": null,
   "metadata": {},
   "outputs": [],
   "source": [
    "ds"
   ]
  },
  {
   "cell_type": "code",
   "execution_count": null,
   "metadata": {},
   "outputs": [],
   "source": [
    "# ds = ds.rename_vars({'XLAT': 'latitude',\n",
    "#                     'XLONG': 'longitude',\n",
    "#                     'XTIME': 'Time'})\n",
    "ds = ds.rename_vars({'XTIME': 'Time'})\n",
    "ds = ds.assign_coords({'Time_dt64': ds.Time})"
   ]
  },
  {
   "cell_type": "code",
   "execution_count": null,
   "metadata": {},
   "outputs": [],
   "source": [
    "ds = ds.assign_coords({'Time': np.arange(ds.Time.size)})"
   ]
  },
  {
   "cell_type": "code",
   "execution_count": null,
   "metadata": {},
   "outputs": [],
   "source": [
    "ds = ds.assign({'latitude': ds.XLAT.sel(Time=0),\n",
    "                'longitude': ds.XLONG.sel(Time=0)})\n",
    "\n",
    "# ds = ds.rename_dims({'south_north': 'latitude',\n",
    "#                      'west_east': 'longitude'})"
   ]
  },
  {
   "cell_type": "code",
   "execution_count": null,
   "metadata": {},
   "outputs": [],
   "source": [
    "ds = ds.set_coords(('latitude', 'longitude'))"
   ]
  },
  {
   "cell_type": "code",
   "execution_count": null,
   "metadata": {},
   "outputs": [],
   "source": [
    "ds['BTRAN'].hvplot.quadmesh(y='latitude', x='longitude', \n",
    "                            groupby=['Time'],\n",
    "                            coastline='50m',\n",
    "                            projection=ccrs.PlateCarree(),\n",
    "                            title=ds['BTRAN'].attrs['description'])"
   ]
  }
 ],
 "metadata": {
  "kernelspec": {
   "display_name": "water_stress_viz",
   "language": "python",
   "name": "water_stress_viz"
  },
  "language_info": {
   "codemirror_mode": {
    "name": "ipython",
    "version": 3
   },
   "file_extension": ".py",
   "mimetype": "text/x-python",
   "name": "python",
   "nbconvert_exporter": "python",
   "pygments_lexer": "ipython3",
   "version": "3.7.6"
  }
 },
 "nbformat": 4,
 "nbformat_minor": 2
}

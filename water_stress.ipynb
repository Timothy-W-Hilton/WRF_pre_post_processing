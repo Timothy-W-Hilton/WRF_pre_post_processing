{
 "cells": [
  {
   "cell_type": "code",
   "execution_count": null,
   "metadata": {},
   "outputs": [],
   "source": [
    "import xarray as xr\n",
    "import hvplot.xarray\n",
    "import cartopy.crs as ccrs"
   ]
  },
  {
   "cell_type": "code",
   "execution_count": null,
   "metadata": {},
   "outputs": [],
   "source": [
    "ds = xr.open_dataset('/global/cscratch1/sd/twhilton/WRFv4.1_Experiments/BTRAN_tests/BTRAN_test_001/WRFV4/run/output/metem_BTRAN000_d02_2005-06-01_01:30:00.nc')"
   ]
  },
  {
   "cell_type": "code",
   "execution_count": null,
   "metadata": {},
   "outputs": [],
   "source": [
    "ds['XLAT'].attrs['long_name'] = 'latitude'\n",
    "ds['XLONG'].attrs['long_name'] = 'longitude'\n",
    "ds['XLAT'].attrs['units'] = 'deg N'\n",
    "ds['XLONG'].attrs['units'] = 'deg E'"
   ]
  },
  {
   "cell_type": "code",
   "execution_count": null,
   "metadata": {},
   "outputs": [],
   "source": [
    "ds['BTRAN'].sel(Time=0).hvplot.quadmesh(y='XLAT', x='XLONG', \n",
    "                                        coastline='50m',\n",
    "                                        projection=ccrs.PlateCarree(),\n",
    "                                       title=ds['BTRAN'].attrs['description'])"
   ]
  },
  {
   "cell_type": "code",
   "execution_count": null,
   "metadata": {
    "scrolled": true
   },
   "outputs": [],
   "source": [
    "dsm = xr.open_mfdataset(('/global/cscratch1/sd/twhilton/WRFv4.1_Experiments/BTRAN_tests/BTRAN_test_001/WRFV4/run/output/metem_BTRAN000_d02_2005-06-01_01:00:00.nc',\n",
    "                    '/global/cscratch1/sd/twhilton/WRFv4.1_Experiments/BTRAN_tests/BTRAN_test_001/WRFV4/run/output/metem_BTRAN000_d02_2005-06-01_01:30:00.nc'))"
   ]
  },
  {
   "cell_type": "code",
   "execution_count": null,
   "metadata": {},
   "outputs": [],
   "source": [
    "dsm['d'] = ds['BTRAN'].sel(Time=0) - ds['BTRAN'].sel(Time=1)\n",
    "dsm['d'].hvplot.quadmesh(title='01:00 - 01:30')"
   ]
  }
 ],
 "metadata": {
  "kernelspec": {
   "display_name": "wrfhv",
   "language": "python",
   "name": "wrfhv"
  },
  "language_info": {
   "codemirror_mode": {
    "name": "ipython",
    "version": 3
   },
   "file_extension": ".py",
   "mimetype": "text/x-python",
   "name": "python",
   "nbconvert_exporter": "python",
   "pygments_lexer": "ipython3",
   "version": "3.7.6"
  }
 },
 "nbformat": 4,
 "nbformat_minor": 2
}

{
 "cells": [
  {
   "cell_type": "markdown",
   "metadata": {},
   "source": [
    "# Yatir land surface parameterization"
   ]
  },
  {
   "cell_type": "code",
   "execution_count": null,
   "metadata": {},
   "outputs": [],
   "source": [
    "from timutils.git_tools import print_cwd_git_version\n",
    "print_cwd_git_version()"
   ]
  },
  {
   "cell_type": "code",
   "execution_count": null,
   "metadata": {},
   "outputs": [],
   "source": [
    "import holoviews as hv\n",
    "from holoviews import opts\n",
    "import os\n",
    "from cartopy import crs as ccrs\n",
    "\n",
    "from geoviews_tools import yatir_landuse_to_xarray"
   ]
  },
  {
   "cell_type": "code",
   "execution_count": null,
   "metadata": {},
   "outputs": [],
   "source": [
    "hv.extension('bokeh')\n",
    "\n",
    "#allow multiple plots in one cell\n",
    "from IPython.core.interactiveshell import InteractiveShell\n",
    "InteractiveShell.ast_node_interactivity = \"all\""
   ]
  },
  {
   "cell_type": "code",
   "execution_count": null,
   "metadata": {},
   "outputs": [],
   "source": [
    "landuse = yatir_landuse_to_xarray()"
   ]
  },
  {
   "cell_type": "code",
   "execution_count": null,
   "metadata": {},
   "outputs": [],
   "source": [
    "import geoviews as gv\n",
    "import geoviews.feature as gf\n",
    "lat_dim = hv.Dimension('south_north', label='Latitude', unit='deg N')\n",
    "lon_dim = hv.Dimension('west_east', label='Longitude', unit='deg E')"
   ]
  },
  {
   "cell_type": "code",
   "execution_count": null,
   "metadata": {},
   "outputs": [],
   "source": [
    "# TODO\n",
    "#  X use Quadmesh, not Image\n",
    "#  - index by lat, lon (not array index)\n",
    "#  - show surrounding map\n",
    "#  - draw box for Yatir on d02 maps\n",
    "#  - better colormap\n",
    "def make_maps(landuse, domain, scale='50m'):\n",
    "    \"\"\"make a list of maps, one per WRF run, for the specified domain\"\"\"\n",
    "    wrf_runs = landuse[domain].coords['WRFrun'].values\n",
    "    maps_list = [gv.Dataset(landuse[domain].sel(WRFrun=this_run), kdims=['PFT', 'lon', 'lat']).to(\n",
    "        gv.QuadMesh, \n",
    "        ['lon', 'lat'], \n",
    "        'LANDUSEF', \n",
    "        label=this_run + \", \" + domain).opts(colorbar=True, cmap='Blues') #, projection=ccrs.PlateCarree()) \n",
    "                 for this_run in wrf_runs\n",
    "                ]\n",
    "    # draw a box around domain 03\n",
    "    corner_indices = ([0, 0, -1, -1], [0, -1, -1, -0])\n",
    "    d03_corners = list(zip(landuse['d03']['lon'].values[corner_indices], \n",
    "                           landuse['d03']['lat'].values[corner_indices]))\n",
    "    d03_box = gv.Polygons(d03_corners).opts(style={'line_color': '#d95f02', 'color': None}) \n",
    "#     for this_run in range(len(wrf_runs)):\n",
    "#         maps_list[this_run] = maps_list[this_run] * d03_box * gf.coastline(scale=scale) * gf.borders(scale=scale)\n",
    "#         maps_list[this_run].opts(padding=0.1)\n",
    "    return(maps_list)\n",
    "d02_maps = make_maps(landuse, 'd02')\n",
    "d03_maps = make_maps(landuse, 'd03', scale='10m')"
   ]
  },
  {
   "cell_type": "code",
   "execution_count": null,
   "metadata": {},
   "outputs": [],
   "source": [
    "# hv.Layout(d02_maps)"
   ]
  },
  {
   "cell_type": "code",
   "execution_count": null,
   "metadata": {},
   "outputs": [],
   "source": [
    "# hv.Layout(d03_maps)"
   ]
  },
  {
   "cell_type": "code",
   "execution_count": null,
   "metadata": {},
   "outputs": [],
   "source": [
    "def make_one_map(landuse, domain, WRF_run, scale='50m', varname='LANDUSEF', vardim=None):\n",
    "    \"\"\"make a list of maps, one per WRF run, for the specified domain\"\"\"\n",
    "    if vardim is None:\n",
    "        vardim=hv.Dimension(varname)\n",
    "    this_map = gv.Dataset(landuse[domain].sel(WRFrun=WRF_run), \n",
    "                          kdims=['PFT', 'lon', 'lat']).to(\n",
    "        gv.QuadMesh, \n",
    "        kdims=['lon', 'lat'], \n",
    "        vdims=vardim).opts(colorbar=True, cmap='Blues', projection=ccrs.PlateCarree())\n",
    "                 \n",
    "    # draw a box around domain 03\n",
    "    corner_indices = ([0, 0, -1, -1], [0, -1, -1, -0])\n",
    "    d03_corners = list(zip(landuse['d03']['lon'].values[corner_indices], \n",
    "                           landuse['d03']['lat'].values[corner_indices]))\n",
    "    d03_box = gv.Polygons(d03_corners).opts(style={'line_color': '#d95f02', 'color': None}) \n",
    "    return(this_map * d03_box * gf.coastline(scale=scale) * gf.borders(scale=scale))\n",
    "    #return(this_map)"
   ]
  },
  {
   "cell_type": "code",
   "execution_count": null,
   "metadata": {},
   "outputs": [],
   "source": [
    "vardim = hv.Dimension('LANDUSEF', label='Land Use Fraction', range=(0.0, 1.0))"
   ]
  },
  {
   "cell_type": "code",
   "execution_count": null,
   "metadata": {
    "scrolled": true
   },
   "outputs": [],
   "source": [
    "landusef_dict = {(WRFdomain, WRFrun): make_one_map(landuse, WRFdomain, WRFrun, scale='110m', vardim=vardim) \n",
    "                for WRFdomain in ['d02', 'd03'] \n",
    "                for WRFrun in ['ctl', 'ytr']}"
   ]
  },
  {
   "cell_type": "code",
   "execution_count": null,
   "metadata": {},
   "outputs": [],
   "source": [
    "kdims = [hv.Dimension(('WRFdomain', 'WRF domain'), default='d03'),\n",
    "         hv.Dimension(('WRFrun', 'WRF run'), default='ctl')]\n",
    "holomap = hv.HoloMap(landusef_dict, kdims=kdims)\n"
   ]
  },
  {
   "cell_type": "markdown",
   "metadata": {},
   "source": [
    "### Land use fraction ###\n",
    "\n",
    "0.0 to 1.0 for each land cover type"
   ]
  },
  {
   "cell_type": "code",
   "execution_count": null,
   "metadata": {},
   "outputs": [],
   "source": [
    "gv.GridSpace(holomap).opts(opts.GridSpace(plot_size=200, title='Land Use Fraction'))"
   ]
  },
  {
   "cell_type": "markdown",
   "metadata": {},
   "source": [
    "### Dominant land use type ###"
   ]
  },
  {
   "cell_type": "code",
   "execution_count": null,
   "metadata": {
    "scrolled": true
   },
   "outputs": [],
   "source": [
    "from map_tools_twh.map_tools_twh import get_IGBP_modMODIS_21Category_PFTs_cmap, get_IGBP_modMODIS_21Category_PFTs_table\n",
    "from bokeh.models import FixedTicker\n",
    "import numpy as np\n",
    "\n",
    "cmap = get_IGBP_modMODIS_21Category_PFTs_cmap()\n",
    "color_table = get_IGBP_modMODIS_21Category_PFTs_table()\n",
    "vardim = hv.Dimension('LU_INDEX', \n",
    "                      label='Dominant Land Use',\n",
    "                      values=[color_table['long_name'][x] for x in range(21)],\n",
    "                      range=(0.0, 20.0), step=1.0)\n",
    "lu_idx_dict = {(WRFdomain, WRFrun): make_one_map(landuse, WRFdomain, WRFrun, scale='110m', varname=\"LU_INDEX\", vardim=vardim) \n",
    "                for WRFdomain in ['d02', 'd03'] \n",
    "                for WRFrun in ['ctl', 'ytr']}\n",
    "holomap = hv.HoloMap(lu_idx_dict, kdims=kdims)\n",
    "\n",
    "#gv.GridSpace(holomap).opts(opts.GridSpace(plot_size=200, title='Dominant Land Use'), opts.QuadMesh(cmap=cmap, colorbar=True))"
   ]
  },
  {
   "cell_type": "code",
   "execution_count": null,
   "metadata": {},
   "outputs": [],
   "source": [
    "min_PFT = 0\n",
    "max_PFT = 21\n",
    "tick_locations = np.linspace(0.5, 20.5, 21)\n",
    "colorbar_opts={'major_label_overrides': {tick_locations[i]: color_table['long_name'][i]\n",
    "                                         for i in range(max_PFT)},\n",
    "              'ticker': FixedTicker(ticks=tick_locations),\n",
    "              'major_label_text_align': 'left'}\n",
    "map_d03_ytr = lu_idx_dict['d03', 'ytr']\n",
    "map_d03_ytr.opts(opts.QuadMesh(cmap=cmap, \n",
    "                               colorbar=True, \n",
    "                               width=500, \n",
    "                               height=300, \n",
    "                               colorbar_opts=colorbar_opts)).redim.range(LU_INDEX=(min_PFT, max_PFT))"
   ]
  }
 ],
 "metadata": {
  "kernelspec": {
   "display_name": "Python [conda env:WRFhv] *",
   "language": "python",
   "name": "conda-env-WRFhv-py"
  },
  "language_info": {
   "codemirror_mode": {
    "name": "ipython",
    "version": 3
   },
   "file_extension": ".py",
   "mimetype": "text/x-python",
   "name": "python",
   "nbconvert_exporter": "python",
   "pygments_lexer": "ipython3",
   "version": "3.7.3"
  }
 },
 "nbformat": 4,
 "nbformat_minor": 2
}

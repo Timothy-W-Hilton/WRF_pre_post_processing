{
 "cells": [
  {
   "cell_type": "markdown",
   "metadata": {},
   "source": [
    "# Yatir land surface parameterization"
   ]
  },
  {
   "cell_type": "code",
   "execution_count": null,
   "metadata": {},
   "outputs": [],
   "source": [
    "from timutils.git_tools import print_cwd_git_version\n",
    "print_cwd_git_version()"
   ]
  },
  {
   "cell_type": "code",
   "execution_count": null,
   "metadata": {},
   "outputs": [],
   "source": [
    "import holoviews as hv\n",
    "from holoviews import opts\n",
    "import os\n",
    "from cartopy import crs as ccrs\n",
    "\n",
    "from geoviews_tools import yatir_landuse_to_xarray"
   ]
  },
  {
   "cell_type": "code",
   "execution_count": null,
   "metadata": {},
   "outputs": [],
   "source": [
    "hv.extension('bokeh')\n",
    "\n",
    "#allow multiple plots in one cell\n",
    "from IPython.core.interactiveshell import InteractiveShell\n",
    "InteractiveShell.ast_node_interactivity = \"all\""
   ]
  },
  {
   "cell_type": "code",
   "execution_count": null,
   "metadata": {},
   "outputs": [],
   "source": [
    "landuse = yatir_landuse_to_xarray()"
   ]
  },
  {
   "cell_type": "code",
   "execution_count": null,
   "metadata": {},
   "outputs": [],
   "source": [
    "import geoviews as gv\n",
    "import geoviews.feature as gf\n",
    "lat_dim = hv.Dimension('south_north', label='Latitude', unit='deg N')\n",
    "lon_dim = hv.Dimension('west_east', label='Longitude', unit='deg E')"
   ]
  },
  {
   "cell_type": "code",
   "execution_count": null,
   "metadata": {},
   "outputs": [],
   "source": [
    "# TODO\n",
    "#  X use Quadmesh, not Image\n",
    "#  - index by lat, lon (not array index)\n",
    "#  - show surrounding map\n",
    "#  - draw box for Yatir on d02 maps\n",
    "#  - better colormap\n",
    "def make_maps(landuse, domain):\n",
    "    \"\"\"make a list of maps, one per WRF run, for the specified domain\"\"\"\n",
    "    wrf_runs = landuse[domain].coords['WRFrun'].values\n",
    "    maps_list = [gv.Dataset(landuse[domain].sel(WRFrun=this_run), kdims=['PFT', 'lon', 'lat']).to(\n",
    "        gv.QuadMesh, \n",
    "        ['lon', 'lat'], \n",
    "        'LANDUSEF', \n",
    "        label=this_run + \", \" + domain).opts(colorbar=True, cmap='Blues') #, projection=ccrs.PlateCarree()) \n",
    "                 for this_run in wrf_runs\n",
    "                ]\n",
    "    # draw a box around domain 03\n",
    "    corner_indices = ([0, 0, -1, -1], [0, -1, -1, -0])\n",
    "    d03_corners = list(zip(landuse['d03']['lon'].values[corner_indices], \n",
    "                           landuse['d03']['lat'].values[corner_indices]))\n",
    "    d03_box = gv.Polygons(d03_corners).opts(style={'line_color': '#d95f02', 'color': None}) \n",
    "    for this_run in range(len(wrf_runs)):\n",
    "        maps_list[this_run] = maps_list[this_run] * d03_box\n",
    "    return(maps_list)\n",
    "d02_maps = make_maps(landuse, 'd02')\n",
    "d03_maps = make_maps(landuse, 'd03')"
   ]
  },
  {
   "cell_type": "code",
   "execution_count": null,
   "metadata": {},
   "outputs": [],
   "source": [
    "hv.Layout(d02_maps)\n",
    "hv.Layout(d03_maps)"
   ]
  }
 ],
 "metadata": {
  "kernelspec": {
   "display_name": "Python [conda env:WRFhv] *",
   "language": "python",
   "name": "conda-env-WRFhv-py"
  },
  "language_info": {
   "codemirror_mode": {
    "name": "ipython",
    "version": 3
   },
   "file_extension": ".py",
   "mimetype": "text/x-python",
   "name": "python",
   "nbconvert_exporter": "python",
   "pygments_lexer": "ipython3",
   "version": "3.7.3"
  }
 },
 "nbformat": 4,
 "nbformat_minor": 2
}

{
 "cells": [
  {
   "cell_type": "markdown",
   "metadata": {},
   "source": [
    "# Yatir land surface parameterization"
   ]
  },
  {
   "cell_type": "code",
   "execution_count": null,
   "metadata": {},
   "outputs": [],
   "source": [
    "from timutils.git_tools import print_cwd_git_version\n",
    "print_cwd_git_version()"
   ]
  },
  {
   "cell_type": "code",
   "execution_count": null,
   "metadata": {},
   "outputs": [],
   "source": [
    "import holoviews as hv\n",
    "import os\n",
    "\n",
    "from geoviews_tools import yatir_landuse_to_xarray"
   ]
  },
  {
   "cell_type": "code",
   "execution_count": null,
   "metadata": {},
   "outputs": [],
   "source": [
    "hv.extension('bokeh')"
   ]
  },
  {
   "cell_type": "code",
   "execution_count": null,
   "metadata": {},
   "outputs": [],
   "source": [
    "landuse = yatir_landuse_to_xarray()"
   ]
  },
  {
   "cell_type": "code",
   "execution_count": null,
   "metadata": {},
   "outputs": [],
   "source": [
    "import geoviews as gv\n",
    "import geoviews.feature as gf\n",
    "lat_dim = hv.Dimension('south_north_stag', label='Latitude', unit='deg N')\n",
    "lon_dim = hv.Dimension('west_east_stag', label='Longitude', unit='deg E')"
   ]
  },
  {
   "cell_type": "code",
   "execution_count": null,
   "metadata": {},
   "outputs": [],
   "source": [
    "def make_maps(landuse, domain):\n",
    "    \"\"\"make a list of maps, one per WRF run, for the specified domain\"\"\"\n",
    "    wrf_runs = landuse[domain].coords['WRFrun'].values\n",
    "    maps_list = [gv.Dataset(landuse[domain]['LANDUSEF'].sel(WRFrun=this_run)).to(\n",
    "        gv.Image, ['south_north', 'west_east'], label=this_run + \", \" + domain).opts(colorbar=True) \n",
    "                 for this_run in wrf_runs]\n",
    "    return(maps_list)\n",
    "d02_maps = make_maps(landuse, 'd02')\n",
    "d03_maps = make_maps(landuse, 'd03')"
   ]
  },
  {
   "cell_type": "code",
   "execution_count": null,
   "metadata": {},
   "outputs": [],
   "source": [
    "hv.Layout(d02_maps + d03_maps).cols(2)"
   ]
  }
 ],
 "metadata": {
  "kernelspec": {
   "display_name": "Python [conda env:WRFhv] *",
   "language": "python",
   "name": "conda-env-WRFhv-py"
  },
  "language_info": {
   "codemirror_mode": {
    "name": "ipython",
    "version": 3
   },
   "file_extension": ".py",
   "mimetype": "text/x-python",
   "name": "python",
   "nbconvert_exporter": "python",
   "pygments_lexer": "ipython3",
   "version": "3.7.3"
  }
 },
 "nbformat": 4,
 "nbformat_minor": 2
}

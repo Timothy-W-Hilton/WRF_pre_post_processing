{
 "cells": [
  {
   "cell_type": "markdown",
   "metadata": {},
   "source": [
    "# Yatir land surface parameterization"
   ]
  },
  {
   "cell_type": "code",
   "execution_count": null,
   "metadata": {},
   "outputs": [],
   "source": [
    "import numpy as np\n",
    "import geoviews as gv\n",
    "import geoviews.feature as gf\n",
    "import holoviews as hv\n",
    "from holoviews import opts\n",
    "import os\n",
    "from cartopy import crs as ccrs\n",
    "\n",
    "from geoviews_tools import yatir_landuse_to_xarray\n",
    "from map_tools_twh.map_tools_twh import get_IGBP_modMODIS_21Category_PFTs_cmap, get_IGBP_modMODIS_21Category_PFTs_table"
   ]
  },
  {
   "cell_type": "markdown",
   "metadata": {},
   "source": [
    "#### Credits\n",
    "plotting powered by [holoviews](http://holoviews.org/), [geoviews](http://geoviews.org) and [bokeh](https://bokeh.pydata.org)"
   ]
  },
  {
   "cell_type": "code",
   "execution_count": null,
   "metadata": {
    "tags": [
     "remove_output"
    ]
   },
   "outputs": [],
   "source": [
    "gv.extension('bokeh')\n",
    "#allow multiple plots in one cell\n",
    "# from IPython.core.interactiveshell import InteractiveShell\n",
    "# InteractiveShell.ast_node_interactivity = \"all\""
   ]
  },
  {
   "cell_type": "code",
   "execution_count": null,
   "metadata": {},
   "outputs": [],
   "source": [
    "landuse = yatir_landuse_to_xarray()"
   ]
  },
  {
   "cell_type": "code",
   "execution_count": null,
   "metadata": {},
   "outputs": [],
   "source": [
    "lat_dim = gv.Dimension('south_north', label='Latitude', unit='deg N')\n",
    "lon_dim = gv.Dimension('west_east', label='Longitude', unit='deg E')\n",
    "domain_dim = gv.Dimension(('WRFdomain', 'WRF domain'), default='d03'),\n",
    "wrfrun_dim = gv.Dimension(('WRFrun', 'WRF run'), default='ctl')"
   ]
  },
  {
   "cell_type": "code",
   "execution_count": null,
   "metadata": {},
   "outputs": [],
   "source": [
    "def make_one_map(landuse, domain, WRF_run, scale='50m', varname='LANDUSEF', vardim=None):\n",
    "    \"\"\"make a single map of specified variable for specified WRF run and domain\"\"\"\n",
    "    if vardim is None:\n",
    "        vardim=gv.Dimension(varname)\n",
    "    this_var_kdims = ['lon', 'lat']\n",
    "    if 'PFT' in landuse[domain][varname].coords.keys():\n",
    "        this_var_kdims = this_var_kdims + ['PFT']\n",
    "    this_map = gv.Dataset(landuse[domain].sel(WRFrun=WRF_run), \n",
    "                          kdims=this_var_kdims).to(\n",
    "        gv.QuadMesh, \n",
    "        kdims=['lon', 'lat'], \n",
    "        vdims=vardim).opts(colorbar=True, cmap='Blues', projection=ccrs.PlateCarree())\n",
    "                 \n",
    "    # draw a box around domain 03\n",
    "    corner_indices = ([0, 0, -1, -1], [0, -1, -1, -0])\n",
    "    d03_corners = list(zip(landuse['d03']['lon'].values[corner_indices], \n",
    "                           landuse['d03']['lat'].values[corner_indices]))\n",
    "    d03_box = gv.Polygons(d03_corners).opts(style={'line_color': '#d95f02', 'color': None}) \n",
    "    return(this_map * d03_box * gf.coastline(scale=scale) * gf.borders(scale=scale))"
   ]
  },
  {
   "cell_type": "markdown",
   "metadata": {},
   "source": [
    "### Land use fraction ###\n",
    "\n",
    "0.0 to 1.0 for each land cover type"
   ]
  },
  {
   "cell_type": "code",
   "execution_count": null,
   "metadata": {},
   "outputs": [],
   "source": [
    "vardim = gv.Dimension('LANDUSEF',\n",
    "                      label='Land Use Fraction', \n",
    "                      range=(0.0, 1.0))\n",
    "landusef_dict = {(WRFdomain, WRFrun): make_one_map(landuse, WRFdomain, WRFrun, vardim=vardim) \n",
    "                for WRFdomain in ['d02', 'd03'] \n",
    "                for WRFrun in ['ctl', 'ytr']}\n",
    "kdims = [gv.Dimension(('WRFdomain', 'WRF domain'), default='d03'),\n",
    "         gv.Dimension(('WRFrun', 'WRF run'), default='ctl')]\n",
    "holomap = gv.HoloMap(landusef_dict, kdims=kdims)\n",
    "gv.GridSpace(holomap).opts(opts.GridSpace(plot_size=200, title='Land Use Fraction'))"
   ]
  },
  {
   "cell_type": "markdown",
   "metadata": {},
   "source": [
    "#### Dominant Land Use"
   ]
  },
  {
   "cell_type": "code",
   "execution_count": null,
   "metadata": {},
   "outputs": [],
   "source": [
    "cmap = get_IGBP_modMODIS_21Category_PFTs_cmap()\n",
    "color_table = get_IGBP_modMODIS_21Category_PFTs_table()\n",
    "color_table.replace('BareGroundTundra', 'Yatir', inplace=True)\n",
    "min_PFT = color_table['PFTnum'].min()\n",
    "max_PFT = color_table['PFTnum'].max()\n",
    "vardim = gv.Dimension('LU_INDEX', \n",
    "                      label='Dominant Land Use',\n",
    "                      values=list(color_table['long_name']))\n",
    "lu_idx_dict = {(WRFdomain, WRFrun): make_one_map(landuse, \n",
    "                                                 WRFdomain, \n",
    "                                                 WRFrun, \n",
    "                                                 varname=\"LU_INDEX\", \n",
    "                                                 vardim=vardim) \n",
    "                for WRFdomain in ['d02', 'd03'] \n",
    "                for WRFrun in ['ctl', 'ytr']}\n",
    "holomap = gv.HoloMap(lu_idx_dict, kdims=kdims)\n",
    "grid = gv.GridSpace(holomap).opts(opts.QuadMesh(cmap=cmap,\n",
    "                                                colorbar=False,\n",
    "                                                color_levels=list(np.arange(22) - 0.5),\n",
    "                                                frame_width=200,\n",
    "                                                frame_height=200)\n",
    "                                 ).redim.range(LU_INDEX=(min_PFT, max_PFT + 1))"
   ]
  },
  {
   "cell_type": "code",
   "execution_count": null,
   "metadata": {},
   "outputs": [],
   "source": [
    "color_table['idx'] = 1  # dummy index for HeatMap horizontal axis\n",
    "legend = hv.HeatMap(color_table[['idx', 'long_name', 'PFTnum']]).opts(opts.HeatMap(cmap=cmap, \n",
    "                                                                                   clim=(0, 22), \n",
    "                                                                                   xaxis='bare', \n",
    "                                                                                   ylabel='',\n",
    "                                                                                   frame_width=50))\n",
    "grid + legend"
   ]
  },
  {
   "cell_type": "markdown",
   "metadata": {},
   "source": [
    "#### PFT histograms"
   ]
  },
  {
   "cell_type": "code",
   "execution_count": null,
   "metadata": {},
   "outputs": [],
   "source": [
    "WRF_runs = landuse['d02'].coords['WRFrun'].values\n",
    "labels = {'ytr': 'Yatir', 'ctl': 'Control'}\n",
    "gv.Layout([hv.Histogram(np.histogram(landuse['d02'].sel(WRFrun=this_run)['LU_INDEX'].values.flatten(), \n",
    "                                     bins=np.arange(22) + 0.5),\n",
    "                       label=labels[this_run])\n",
    "           for this_run in WRF_runs]).opts(title=\"Dominant Land Use, d02\")"
   ]
  },
  {
   "cell_type": "code",
   "execution_count": null,
   "metadata": {},
   "outputs": [],
   "source": [
    "from timutils.git_tools import print_cwd_git_version\n",
    "print('git: ', end='')\n",
    "print_cwd_git_version()"
   ]
  }
 ],
 "metadata": {
  "kernelspec": {
   "display_name": "Python [conda env:WRFhv] *",
   "language": "python",
   "name": "conda-env-WRFhv-py"
  },
  "language_info": {
   "codemirror_mode": {
    "name": "ipython",
    "version": 3
   },
   "file_extension": ".py",
   "mimetype": "text/x-python",
   "name": "python",
   "nbconvert_exporter": "python",
   "pygments_lexer": "ipython3",
   "version": "3.7.3"
  }
 },
 "nbformat": 4,
 "nbformat_minor": 2
}

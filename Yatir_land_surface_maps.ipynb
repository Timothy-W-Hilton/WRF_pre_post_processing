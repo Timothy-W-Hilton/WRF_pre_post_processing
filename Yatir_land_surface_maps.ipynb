{
 "cells": [
  {
   "cell_type": "markdown",
   "metadata": {},
   "source": [
    "# Yatir land surface parameterization"
   ]
  },
  {
   "cell_type": "code",
   "execution_count": null,
   "metadata": {},
   "outputs": [],
   "source": [
    "from timutils.git_tools import print_cwd_git_version\n",
    "print_cwd_git_version()"
   ]
  },
  {
   "cell_type": "code",
   "execution_count": null,
   "metadata": {},
   "outputs": [],
   "source": [
    "import holoviews as hv\n",
    "from holoviews import opts\n",
    "import os\n",
    "\n",
    "from geoviews_tools import yatir_landuse_to_xarray"
   ]
  },
  {
   "cell_type": "code",
   "execution_count": null,
   "metadata": {},
   "outputs": [],
   "source": [
    "hv.extension('bokeh')\n",
    "\n",
    "#allow multiple plots in one cell\n",
    "from IPython.core.interactiveshell import InteractiveShell\n",
    "InteractiveShell.ast_node_interactivity = \"all\""
   ]
  },
  {
   "cell_type": "code",
   "execution_count": null,
   "metadata": {},
   "outputs": [],
   "source": [
    "landuse = yatir_landuse_to_xarray()"
   ]
  },
  {
   "cell_type": "code",
   "execution_count": null,
   "metadata": {},
   "outputs": [],
   "source": [
    "import geoviews as gv\n",
    "import geoviews.feature as gf\n",
    "lat_dim = hv.Dimension('south_north', label='Latitude', unit='deg N')\n",
    "lon_dim = hv.Dimension('west_east', label='Longitude', unit='deg E')"
   ]
  },
  {
   "cell_type": "code",
   "execution_count": null,
   "metadata": {
    "scrolled": true
   },
   "outputs": [],
   "source": [
    "gvds = gv.Dataset(landuse['d03'], kdims=['WRFrun', 'PFT', 'lon', 'lat'])\n",
    "gvds.to(gv.QuadMesh, ['lon', 'lat'], 'LANDUSEF')\n",
    "\n"
   ]
  },
  {
   "cell_type": "code",
   "execution_count": null,
   "metadata": {},
   "outputs": [],
   "source": [
    "landuse['d03']"
   ]
  },
  {
   "cell_type": "code",
   "execution_count": null,
   "metadata": {},
   "outputs": [],
   "source": [
    "gv.Dataset(landuse['d03'].sel(WRFrun='ctl'), kdims=['WRFrun', 'PFT', 'lon', 'lat'])"
   ]
  },
  {
   "cell_type": "code",
   "execution_count": null,
   "metadata": {},
   "outputs": [],
   "source": [
    "# TODO\n",
    "#  X use Quadmesh, not Image\n",
    "#  - index by lat, lon (not array index)\n",
    "#  - show surrounding map\n",
    "#  - draw box for Yatir on d02 maps\n",
    "#  - better colormap\n",
    "def make_maps(landuse, domain):\n",
    "    \"\"\"make a list of maps, one per WRF run, for the specified domain\"\"\"\n",
    "    wrf_runs = landuse[domain].coords['WRFrun'].values\n",
    "    maps_list = [gv.Dataset(landuse[domain].sel(WRFrun=this_run), kdims=['PFT', 'lon', 'lat']).to(\n",
    "        gv.QuadMesh, \n",
    "        ['lon', 'lat'], \n",
    "        'LANDUSEF', \n",
    "        label=this_run + \", \" + domain).opts(colorbar=True, cmap='Blues') \n",
    "                 for this_run in wrf_runs\n",
    "                ]\n",
    "    # draw a box around domain 03\n",
    "    d03_corners = (landuse['d03']['lon'].values.min(), landuse['d03']['lat'].values.min(), \n",
    "                   landuse['d03']['lon'].values.max(), landuse['d03']['lat'].values.max())\n",
    "    for this_run in range(len(wrf_runs)):\n",
    "        maps_list[this_run] = hv.Overlay(maps_list[this_run], \n",
    "                                         hv.Bounds(d03_corners).opts(opts.Bounds(color='orange', \n",
    "                                                                                 line_width=6))\n",
    "                                        ).collate()\n",
    "    return(maps_list)\n",
    "d02_maps = make_maps(landuse, 'd02')\n",
    "d03_maps = make_maps(landuse, 'd03')"
   ]
  },
  {
   "cell_type": "code",
   "execution_count": null,
   "metadata": {},
   "outputs": [],
   "source": [
    "hv.Layout(d02_maps)\n",
    "hv.Layout(d03_maps)"
   ]
  },
  {
   "cell_type": "code",
   "execution_count": null,
   "metadata": {},
   "outputs": [],
   "source": [
    "d03_corners = (landuse['d03']['lon'].values.min(), landuse['d03']['lat'].values.min(), \n",
    "                   landuse['d03']['lon'].values.max(), landuse['d03']['lat'].values.max())\n",
    "d02_maps[0] #* hv.Bounds(d03_corners).opts(opts.Bounds(color='orange', line_width=6))"
   ]
  }
 ],
 "metadata": {
  "kernelspec": {
   "display_name": "Python [conda env:WRFhv] *",
   "language": "python",
   "name": "conda-env-WRFhv-py"
  },
  "language_info": {
   "codemirror_mode": {
    "name": "ipython",
    "version": 3
   },
   "file_extension": ".py",
   "mimetype": "text/x-python",
   "name": "python",
   "nbconvert_exporter": "python",
   "pygments_lexer": "ipython3",
   "version": "3.7.3"
  }
 },
 "nbformat": 4,
 "nbformat_minor": 2
}

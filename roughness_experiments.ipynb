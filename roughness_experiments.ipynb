{
 "cells": [
  {
   "cell_type": "markdown",
   "metadata": {},
   "source": [
    "# Roughness length experiment results"
   ]
  },
  {
   "cell_type": "code",
   "execution_count": null,
   "metadata": {},
   "outputs": [],
   "source": [
    "import holoviews as hv\n",
    "import os\n",
    "\n",
    "from geoviews_tools import get_data_file, overlay_roughness_realization_timeseries"
   ]
  },
  {
   "cell_type": "code",
   "execution_count": null,
   "metadata": {},
   "outputs": [],
   "source": [
    "hv.extension('bokeh')"
   ]
  },
  {
   "cell_type": "code",
   "execution_count": null,
   "metadata": {},
   "outputs": [],
   "source": [
    "roughness_data_dir = os.path.join('/Users/tim/work/Data/SummenWRF/yatir/roughness_experiments/')\n",
    "fnames = {'ctl': 'control_d03.nc',\n",
    "          'yatir': 'yatir_run_d03.nc',\n",
    "          'vegparm_z0_10': 'vegparm_z0_10_d03.nc',\n",
    "          'landuse_z0_500': 'landuse_z0_500_d03.nc'}\n",
    "data_paths = {k: os.path.join(roughness_data_dir, v)\n",
    "              for k, v in fnames.items()}\n",
    "dsgv, dsxr = get_data_file(data_paths)"
   ]
  },
  {
   "cell_type": "code",
   "execution_count": null,
   "metadata": {},
   "outputs": [],
   "source": [
    "hfx_curves = overlay_roughness_realization_timeseries(dsxr, 'HFX')\n",
    "lh_curves = overlay_roughness_realization_timeseries(dsxr, 'LH')"
   ]
  },
  {
   "cell_type": "code",
   "execution_count": null,
   "metadata": {},
   "outputs": [],
   "source": [
    "hv.Layout([hfx_curves, lh_curves]).cols(1)"
   ]
  }
 ],
 "metadata": {
  "kernelspec": {
   "display_name": "Python [conda env:WRFhv] *",
   "language": "python",
   "name": "conda-env-WRFhv-py"
  },
  "language_info": {
   "codemirror_mode": {
    "name": "ipython",
    "version": 3
   },
   "file_extension": ".py",
   "mimetype": "text/x-python",
   "name": "python",
   "nbconvert_exporter": "python",
   "pygments_lexer": "ipython3",
   "version": "3.7.1"
  }
 },
 "nbformat": 4,
 "nbformat_minor": 2
}

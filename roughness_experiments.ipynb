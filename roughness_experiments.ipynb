{
 "cells": [
  {
   "cell_type": "markdown",
   "metadata": {},
   "source": [
    "# Roughness length experiment results"
   ]
  },
  {
   "cell_type": "code",
   "execution_count": 1,
   "metadata": {},
   "outputs": [
    {
     "name": "stdout",
     "output_type": "stream",
     "text": [
      "On branch yatir_geoviews at rev 168e396\n"
     ]
    }
   ],
   "source": [
    "# print any git repository info too (thanks to Travis O'Brien for this code snippet)\n",
    "import git\n",
    "try:\n",
    "    _repo = git.Repo(search_parent_directories=True)\n",
    "    _git_sha = _repo.head.object.hexsha\n",
    "    _git_short_sha = _repo.git.rev_parse(_git_sha, short=7)\n",
    "    _git_branch = _repo.active_branch\n",
    "    print(\"On branch {} at rev {}\".format(_git_branch,_git_short_sha))\n",
    "except:\n",
    "    print(\"No repository detected.\")"
   ]
  },
  {
   "cell_type": "code",
   "execution_count": 2,
   "metadata": {},
   "outputs": [
    {
     "ename": "IndentationError",
     "evalue": "unexpected indent (geoviews_tools.py, line 185)",
     "output_type": "error",
     "traceback": [
      "Traceback \u001b[0;36m(most recent call last)\u001b[0m:\n",
      "  File \u001b[1;32m\"/Users/tim/anaconda3/envs/WRFhv/lib/python3.7/site-packages/IPython/core/interactiveshell.py\"\u001b[0m, line \u001b[1;32m3291\u001b[0m, in \u001b[1;35mrun_code\u001b[0m\n    exec(code_obj, self.user_global_ns, self.user_ns)\n",
      "\u001b[0;36m  File \u001b[0;32m\"<ipython-input-2-f745d6ae15f0>\"\u001b[0;36m, line \u001b[0;32m4\u001b[0;36m, in \u001b[0;35m<module>\u001b[0;36m\u001b[0m\n\u001b[0;31m    from geoviews_tools import get_data_file, overlay_roughness_realization_timeseries, xrvar_to_hvdim\u001b[0m\n",
      "\u001b[0;36m  File \u001b[0;32m\"/Users/tim/work/Code/WRF_pre_post_processing/geoviews_tools.py\"\u001b[0;36m, line \u001b[0;32m185\u001b[0m\n\u001b[0;31m    if __name__ == '__main__':\u001b[0m\n\u001b[0m    ^\u001b[0m\n\u001b[0;31mIndentationError\u001b[0m\u001b[0;31m:\u001b[0m unexpected indent\n"
     ]
    }
   ],
   "source": [
    "import holoviews as hv\n",
    "import os\n",
    "\n",
    "from geoviews_tools import get_data_file, overlay_roughness_realization_timeseries, xrvar_to_hvdim"
   ]
  },
  {
   "cell_type": "code",
   "execution_count": null,
   "metadata": {},
   "outputs": [],
   "source": [
    "hv.extension('bokeh')"
   ]
  },
  {
   "cell_type": "code",
   "execution_count": null,
   "metadata": {},
   "outputs": [],
   "source": [
    "roughness_data_dir = os.path.join('/Users/tim/work/Data/SummenWRF/yatir/roughness_experiments/')\n",
    "fnames = {'ctl': 'energyfluxes_control_d03.nc',\n",
    "          'yatir': 'energyfluxes_yatir_run_d03.nc',\n",
    "          'vegparm_z0_10': 'energyfluxes_vegparm_z0_10_d03.nc',\n",
    "          'landuse_z0_500': 'energyfluxes_landuse_z0_500_d03.nc'}\n",
    "data_paths = {k: os.path.join(roughness_data_dir, v)\n",
    "              for k, v in fnames.items()}\n",
    "dsgv, dsxr = get_data_file(data_paths)"
   ]
  },
  {
   "cell_type": "code",
   "execution_count": null,
   "metadata": {},
   "outputs": [],
   "source": [
    "vars = ['HFX', 'LH', 'FSA', 'FIRA']\n",
    "yatir_curves = [overlay_roughness_realization_timeseries(dsxr, \n",
    "                                                         this_var, \n",
    "                                                         mask=dsxr.yatir_mask) \n",
    "                for this_var in vars]"
   ]
  },
  {
   "cell_type": "code",
   "execution_count": null,
   "metadata": {},
   "outputs": [],
   "source": [
    "import numpy as np\n",
    "desert_curves = [overlay_roughness_realization_timeseries(dsxr, \n",
    "                                                          this_var, \n",
    "                                                          mask=np.logical_not(dsxr.yatir_mask))\n",
    "                for this_var in vars]"
   ]
  },
  {
   "cell_type": "code",
   "execution_count": null,
   "metadata": {},
   "outputs": [],
   "source": [
    "hv.Layout(yatir_curves).cols(1).relabel('Yatir WRf cells pixels only')"
   ]
  },
  {
   "cell_type": "code",
   "execution_count": null,
   "metadata": {},
   "outputs": [],
   "source": [
    "hv.Layout(desert_curves).cols(1).relabel('Desert WRf cells pixels only')"
   ]
  },
  {
   "cell_type": "code",
   "execution_count": null,
   "metadata": {},
   "outputs": [],
   "source": [
    "import geoviews as gv\n",
    "import geoviews.feature as gf\n",
    "lat_dim = hv.Dimension('XLAT', label='Latitude', unit='deg N')\n",
    "lon_dim = hv.Dimension('XLONG', label='Longitude', unit='deg E')\n",
    "gv.Overlay([gv.QuadMesh(dsxr.yatir_mask, [lon_dim, lat_dim]).opts(colorbar=True, \n",
    "                                                                  cmap='RdBu_r', \n",
    "                                                                  width=600, \n",
    "                                                                  height=600, \n",
    "                                                                  padding=1.0),\n",
    "            gf.borders.options(scale='50m'),\n",
    "            gf.ocean.options(scale='50m')])"
   ]
  }
 ],
 "metadata": {
  "kernelspec": {
   "display_name": "Python [conda env:WRFhv] *",
   "language": "python",
   "name": "conda-env-WRFhv-py"
  },
  "language_info": {
   "codemirror_mode": {
    "name": "ipython",
    "version": 3
   },
   "file_extension": ".py",
   "mimetype": "text/x-python",
   "name": "python",
   "nbconvert_exporter": "python",
   "pygments_lexer": "ipython3",
   "version": "3.7.1"
  }
 },
 "nbformat": 4,
 "nbformat_minor": 2
}

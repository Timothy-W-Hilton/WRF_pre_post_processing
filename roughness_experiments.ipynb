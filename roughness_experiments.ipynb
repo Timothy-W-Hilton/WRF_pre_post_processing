{
 "cells": [
  {
   "cell_type": "markdown",
   "metadata": {},
   "source": [
    "# Roughness length experiment results"
   ]
  },
  {
   "cell_type": "code",
   "execution_count": null,
   "metadata": {},
   "outputs": [],
   "source": [
    "import geoviews as gv\n",
    "import holoviews as hv\n",
    "import xarray as xr\n",
    "import seaborn as sns\n",
    "import numpy as np\n",
    "import os\n",
    "import matplotlib.pyplot as plt\n",
    "\n",
    "from check_HFX_sums import get_data_file"
   ]
  },
  {
   "cell_type": "code",
   "execution_count": null,
   "metadata": {},
   "outputs": [],
   "source": [
    "hv.extension('bokeh')"
   ]
  },
  {
   "cell_type": "code",
   "execution_count": null,
   "metadata": {},
   "outputs": [],
   "source": [
    "roughness_data_dir = os.path.join('/Users/tim/work/Data/SummenWRF/yatir/roughness_experiments/')\n",
    "fnames = {'ctl': 'control_d03.nc',\n",
    "          'vegparm_z0_10': 'vegparm_z0_10_d03.nc',\n",
    "          'landuse_z0_500': 'landuse_z0_500_d03.nc'}\n",
    "data_paths = {k: os.path.join(roughness_data_dir, v)\n",
    "              for k, v in fnames.items()}\n",
    "dsgv, dsxr = get_data_file(data_paths)"
   ]
  },
  {
   "cell_type": "code",
   "execution_count": null,
   "metadata": {},
   "outputs": [],
   "source": [
    "df_HFX = dsxr.mean(dim=['west_east', 'south_north'], skipna=True).HFX.to_dataframe()\n",
    "plt.figure(figsize=(16, 6))\n",
    "sns.set_context('poster')\n",
    "sns.lineplot(data=df_HFX.reset_index(), x='Time', y='HFX', hue='WRFrun', style='WRFrun')"
   ]
  },
  {
   "cell_type": "code",
   "execution_count": null,
   "metadata": {},
   "outputs": [],
   "source": [
    "hv_HFX = hv.Table(df_HFX).to.curve(kdims='Time', vdims='HFX').opts(width=600)\n",
    "hv_HFX"
   ]
  },
  {
   "cell_type": "code",
   "execution_count": null,
   "metadata": {},
   "outputs": [],
   "source": [
    "df_HFX.index.codes"
   ]
  },
  {
   "cell_type": "code",
   "execution_count": null,
   "metadata": {},
   "outputs": [],
   "source": [
    "[a for a in df_HFX.index.unique(0)]"
   ]
  },
  {
   "cell_type": "code",
   "execution_count": null,
   "metadata": {},
   "outputs": [],
   "source": [
    "\n",
    "foo = [hv.Curve(hv.Table(df_HFX.loc[df_HFX.index.get_level_values(0).isin([k])]\n",
    "                   for k in df_HFX.index.unique(0)))]\n",
    "foo[0]"
   ]
  },
  {
   "cell_type": "code",
   "execution_count": null,
   "metadata": {},
   "outputs": [],
   "source": [
    "[k for k in df_HFX.index.unique(0)]\n",
    "foo = [df_HFX.loc[df_HFX.index.get_level_values(0).isin([k])] for k in df_HFX.index.unique(0)]\n",
    "foo[0]\n",
    "hv.Curve([this.reset_index() for this in foo], kdim='Time', vdim='HFX')"
   ]
  }
 ],
 "metadata": {
  "kernelspec": {
   "display_name": "Python [conda env:WRFhv] *",
   "language": "python",
   "name": "conda-env-WRFhv-py"
  },
  "language_info": {
   "codemirror_mode": {
    "name": "ipython",
    "version": 3
   },
   "file_extension": ".py",
   "mimetype": "text/x-python",
   "name": "python",
   "nbconvert_exporter": "python",
   "pygments_lexer": "ipython3",
   "version": "3.7.1"
  }
 },
 "nbformat": 4,
 "nbformat_minor": 2
}

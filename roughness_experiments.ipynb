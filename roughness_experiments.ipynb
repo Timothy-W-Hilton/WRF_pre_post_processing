{
 "cells": [
  {
   "cell_type": "markdown",
   "metadata": {},
   "source": [
    "# Roughness length experiment results"
   ]
  },
  {
   "cell_type": "code",
   "execution_count": null,
   "metadata": {},
   "outputs": [],
   "source": [
    "import geoviews as gv\n",
    "import holoviews as hv\n",
    "from holoviews import opts\n",
    "import xarray as xr\n",
    "import seaborn as sns\n",
    "import numpy as np\n",
    "import pandas as pd\n",
    "import os\n",
    "import matplotlib.pyplot as plt\n",
    "\n",
    "from check_HFX_sums import get_data_file"
   ]
  },
  {
   "cell_type": "code",
   "execution_count": null,
   "metadata": {},
   "outputs": [],
   "source": [
    "hv.extension('bokeh')"
   ]
  },
  {
   "cell_type": "code",
   "execution_count": null,
   "metadata": {},
   "outputs": [],
   "source": [
    "roughness_data_dir = os.path.join('/Users/tim/work/Data/SummenWRF/yatir/roughness_experiments/')\n",
    "fnames = {'ctl': 'control_d03.nc',\n",
    "          'yatir': 'yatir_run_d03.nc',\n",
    "          'vegparm_z0_10': 'vegparm_z0_10_d03.nc',\n",
    "          'landuse_z0_500': 'landuse_z0_500_d03.nc'}\n",
    "data_paths = {k: os.path.join(roughness_data_dir, v)\n",
    "              for k, v in fnames.items()}\n",
    "dsgv, dsxr = get_data_file(data_paths)"
   ]
  },
  {
   "cell_type": "code",
   "execution_count": null,
   "metadata": {},
   "outputs": [],
   "source": [
    "df_HFX = dsxr.mean(dim=['west_east', 'south_north'], skipna=True).HFX.to_dataframe()\n",
    "hfx_dim = hv.Dimension('HFX', label='Sensible Heat Flux', unit='W m-2')\n",
    "t_dim = hv.Dimension('time', label='Time', unit='hour', type=pd.Timestamp)\n",
    "tbl_list = [hv.Table(df[1], label=df[0]) for df in df_HFX.groupby('WRFrun')]\n",
    "crv_list = [hv.Curve(tbl, kdims='Time', vdims=hfx_dim) for tbl in tbl_list]\n",
    "OLopts = opts.Overlay(frame_width=690, legend_position='right')\n",
    "hv.Overlay(crv_list).opts(OLopts)"
   ]
  }
 ],
 "metadata": {
  "kernelspec": {
   "display_name": "Python [conda env:WRFhv] *",
   "language": "python",
   "name": "conda-env-WRFhv-py"
  },
  "language_info": {
   "codemirror_mode": {
    "name": "ipython",
    "version": 3
   },
   "file_extension": ".py",
   "mimetype": "text/x-python",
   "name": "python",
   "nbconvert_exporter": "python",
   "pygments_lexer": "ipython3",
   "version": "3.7.1"
  }
 },
 "nbformat": 4,
 "nbformat_minor": 2
}

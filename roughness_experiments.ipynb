{
 "cells": [
  {
   "cell_type": "markdown",
   "metadata": {},
   "source": [
    "# Roughness length experiment results"
   ]
  },
  {
   "cell_type": "code",
   "execution_count": null,
   "metadata": {},
   "outputs": [],
   "source": [
    "# print any git repository info too (thanks to Travis O'Brien for this code snippet)\n",
    "import git\n",
    "try:\n",
    "    _repo = git.Repo(search_parent_directories=True)\n",
    "    _git_sha = _repo.head.object.hexsha\n",
    "    _git_short_sha = _repo.git.rev_parse(_git_sha, short=7)\n",
    "    _git_branch = _repo.active_branch\n",
    "    print(\"On branch {} at rev {}\".format(_git_branch,_git_short_sha))\n",
    "except:\n",
    "    print(\"No repository detected.\")"
   ]
  },
  {
   "cell_type": "code",
   "execution_count": null,
   "metadata": {},
   "outputs": [],
   "source": [
    "import holoviews as hv\n",
    "import os\n",
    "\n",
    "from geoviews_tools import get_data_file, overlay_roughness_realization_timeseries"
   ]
  },
  {
   "cell_type": "code",
   "execution_count": null,
   "metadata": {},
   "outputs": [],
   "source": [
    "hv.extension('bokeh')"
   ]
  },
  {
   "cell_type": "code",
   "execution_count": null,
   "metadata": {},
   "outputs": [],
   "source": [
    "roughness_data_dir = os.path.join('/Users/tim/work/Data/SummenWRF/yatir/roughness_experiments/')\n",
    "fnames = {'ctl': 'control_d03.nc',\n",
    "          'yatir': 'yatir_run_d03.nc',\n",
    "          'vegparm_z0_10': 'vegparm_z0_10_d03.nc',\n",
    "          'landuse_z0_500': 'landuse_z0_500_d03.nc'}\n",
    "data_paths = {k: os.path.join(roughness_data_dir, v)\n",
    "              for k, v in fnames.items()}\n",
    "dsgv, dsxr = get_data_file(data_paths)"
   ]
  },
  {
   "cell_type": "code",
   "execution_count": null,
   "metadata": {},
   "outputs": [],
   "source": [
    "vars = ['HFX', 'LH']\n",
    "curves = [overlay_roughness_realization_timeseries(dsxr, this_var) for this_var in vars]"
   ]
  },
  {
   "cell_type": "code",
   "execution_count": null,
   "metadata": {},
   "outputs": [],
   "source": [
    "hv.Layout(curves).cols(1)"
   ]
  }
 ],
 "metadata": {
  "kernelspec": {
   "display_name": "Python [conda env:WRFhv] *",
   "language": "python",
   "name": "conda-env-WRFhv-py"
  },
  "language_info": {
   "codemirror_mode": {
    "name": "ipython",
    "version": 3
   },
   "file_extension": ".py",
   "mimetype": "text/x-python",
   "name": "python",
   "nbconvert_exporter": "python",
   "pygments_lexer": "ipython3",
   "version": "3.7.1"
  }
 },
 "nbformat": 4,
 "nbformat_minor": 2
}

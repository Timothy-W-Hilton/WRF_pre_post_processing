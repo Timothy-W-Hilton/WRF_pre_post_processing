{
 "cells": [
  {
   "cell_type": "code",
   "execution_count": null,
   "metadata": {},
   "outputs": [],
   "source": [
    "# print any git repository info too (thanks to Travis O'Brien for this code snippet)\n",
    "import git\n",
    "try:\n",
    "    _repo = git.Repo(search_parent_directories=True)\n",
    "    _git_sha = _repo.head.object.hexsha\n",
    "    _git_short_sha = _repo.git.rev_parse(_git_sha, short=7)\n",
    "    _git_branch = _repo.active_branch\n",
    "    print(\"On branch {} at rev {}\".format(_git_branch,_git_short_sha))\n",
    "except:\n",
    "    print(\"No repository detected.\")"
   ]
  },
  {
   "cell_type": "code",
   "execution_count": null,
   "metadata": {
    "autoscroll": false,
    "ein.hycell": false,
    "ein.tags": "worksheet-0",
    "scrolled": false,
    "slideshow": {
     "slide_type": "-"
    }
   },
   "outputs": [],
   "source": [
    "import os\n",
    "import numpy as np\n",
    "import xarray as xr\n",
    "import pandas as pd\n",
    "import seaborn as sns\n",
    "import holoviews as hv\n",
    "from holoviews import opts\n",
    "import geoviews as gv\n",
    "import geoviews.feature as gf\n",
    "import matplotlib.pyplot as plt\n",
    "\n",
    "import geoviews_tools as gt\n",
    "\n",
    "gv.extension('matplotlib')"
   ]
  },
  {
   "cell_type": "code",
   "execution_count": null,
   "metadata": {
    "autoscroll": false,
    "ein.hycell": false,
    "ein.tags": "worksheet-0",
    "scrolled": true,
    "slideshow": {
     "slide_type": "-"
    }
   },
   "outputs": [],
   "source": [
    "\n",
    "ntime = 3\n",
    "cscratch_path = os.path.join('/', 'global', 'cscratch1', 'sd', 'twhilton')\n",
    "cscratch_path = '/Users/tim/work/Data/SummenWRF/yatir/'\n",
    "LHctl_d03 = gt.yatir_to_xarray(os.path.join(cscratch_path, 'LH_d03_yatirZ50.nc'),\n",
    "                               varname='LH',\n",
    "                               groupname='ctl',\n",
    "                               timerange=ntime)\n",
    "LHytr_d03 = gt.yatir_to_xarray(os.path.join(cscratch_path, 'LH_d03_yatirZ50.nc'),\n",
    "                               varname='LH',\n",
    "                               groupname='yatirZ050',\n",
    "                               timerange=ntime)\n",
    "LHctl_d02 = gt.yatir_to_xarray(os.path.join(cscratch_path, 'LH_d02_yatirZ50.nc'),\n",
    "                               varname='LH',\n",
    "                               groupname='ctl',\n",
    "                               timerange=ntime)\n",
    "LHytr_d02 = gt.yatir_to_xarray(os.path.join(cscratch_path, 'LH_d02_yatirZ50.nc'),\n",
    "                               varname='LH',\n",
    "                               groupname='yatirZ050',\n",
    "                               timerange=ntime)\n",
    "\n",
    "ntime = 720\n",
    "HFXctl_d03 = gt.yatir_to_xarray(os.path.join(cscratch_path, 'HFX_d03_yatirZ50.nc'),\n",
    "                                varname='HFX',\n",
    "                                groupname='ctl',\n",
    "                                timerange=ntime)\n",
    "HFXytr_d03 = gt.yatir_to_xarray(os.path.join(cscratch_path, 'HFX_d03_yatirZ50.nc'),\n",
    "                                varname='HFX',\n",
    "                                groupname='yatirZ050',\n",
    "                                timerange=ntime)\n",
    "HFXctl_d02 = gt.yatir_to_xarray(os.path.join(cscratch_path, 'HFX_d02_yatirZ50.nc'),\n",
    "                                varname='HFX',\n",
    "                                groupname='ctl',\n",
    "                                timerange=ntime)\n",
    "HFXytr_d02 = gt.yatir_to_xarray(os.path.join(cscratch_path, 'HFX_d02_yatirZ50.nc'),\n",
    "                                varname='HFX',\n",
    "                                groupname='yatirZ050',\n",
    "                                timerange=ntime)"
   ]
  },
  {
   "cell_type": "code",
   "execution_count": null,
   "metadata": {
    "autoscroll": false,
    "ein.hycell": false,
    "ein.tags": "worksheet-0",
    "scrolled": true,
    "slideshow": {
     "slide_type": "-"
    }
   },
   "outputs": [],
   "source": [
    "pad03 = 0.1\n",
    "pad02 = 1.0\n",
    "lon_d03 = LHctl_d03.lon.values\n",
    "lat_d03 = LHctl_d03.lat.values\n",
    "lon_d02 = LHctl_d02.lon.values\n",
    "lat_d02 = LHctl_d02.lat.values"
   ]
  },
  {
   "cell_type": "markdown",
   "metadata": {
    "ein.tags": "worksheet-0",
    "slideshow": {
     "slide_type": "-"
    }
   },
   "source": [
    "Plot the data using GeoViews with matplotlib.  The plot shows up (correctly) in the area surrounding [Yatir Forest](https://en.wikipedia.org/wiki/Yatir_Forest)."
   ]
  },
  {
   "cell_type": "raw",
   "metadata": {
    "autoscroll": false,
    "ein.hycell": false,
    "ein.tags": "worksheet-0",
    "scrolled": false,
    "slideshow": {
     "slide_type": "-"
    }
   },
   "source": [
    "hv.output(max_frames=ntime)\n",
    "map_LH_ytr_d02, map_LH_ytr_d03 = gt.build_geoviews_comparison(LHytr_d02, LHytr_d03)\n",
    "map_LH_ctl_d02, map_LH_ctl_d03 = gt.build_geoviews_comparison(LHctl_d02, LHytr_d03)"
   ]
  },
  {
   "cell_type": "markdown",
   "metadata": {
    "ein.tags": "worksheet-0",
    "slideshow": {
     "slide_type": "-"
    }
   },
   "source": [
    "TODO: why no variable/group labels on this plot?  Perhaps has to do with nesting warning below."
   ]
  },
  {
   "cell_type": "raw",
   "metadata": {
    "autoscroll": false,
    "ein.hycell": false,
    "ein.tags": "worksheet-0",
    "scrolled": true,
    "slideshow": {
     "slide_type": "-"
    }
   },
   "source": [
    "LHmaps = hv.Layout((map_LH_ctl_d02.collate(), \n",
    "                    map_LH_ytr_d02.collate(), \n",
    "                    map_LH_ctl_d03.collate(), \n",
    "                    map_LH_ytr_d03.collate()),\n",
    "                  label='LH (Wm$^{-2}$)').cols(2)"
   ]
  },
  {
   "cell_type": "code",
   "execution_count": null,
   "metadata": {
    "autoscroll": false,
    "ein.hycell": false,
    "ein.tags": "worksheet-0",
    "scrolled": true,
    "slideshow": {
     "slide_type": "-"
    }
   },
   "outputs": [],
   "source": [
    "# LHmaps"
   ]
  },
  {
   "cell_type": "markdown",
   "metadata": {
    "ein.tags": "worksheet-0",
    "slideshow": {
     "slide_type": "-"
    }
   },
   "source": [
    "TODO: figure out nesting warning below"
   ]
  },
  {
   "cell_type": "code",
   "execution_count": null,
   "metadata": {
    "autoscroll": false,
    "ein.hycell": false,
    "ein.tags": "worksheet-0",
    "scrolled": true,
    "slideshow": {
     "slide_type": "-"
    }
   },
   "outputs": [],
   "source": [
    "# # print(map_LH_ctl_d03) # + map_LH_ytr_d03\n",
    "# # print(map_LH_ctl_d03.collate())\n",
    "# print('1-----')\n",
    "# print(gf.coastline * gv.Dataset(LHytr_d02).to(gv.QuadMesh, groupby='time'))\n",
    "# print('2-----')\n",
    "# print(hv.Overlay((gf.coastline, gv.Dataset(LHytr_d02).to(gv.QuadMesh, groupby='time'))))\n",
    "# # print('3-----')\n",
    "# # print(LHytr_d02)\n",
    "# print('4-----')\n",
    "# print(gv.Dataset(LHytr_d02).to(gv.QuadMesh, groupby='time'))"
   ]
  },
  {
   "cell_type": "code",
   "execution_count": null,
   "metadata": {
    "autoscroll": false,
    "ein.hycell": false,
    "ein.tags": "worksheet-0",
    "scrolled": true,
    "slideshow": {
     "slide_type": "-"
    }
   },
   "outputs": [],
   "source": [
    "# LHmaps = hv.Layout((map_LH_ctl_d02.collate(), \n",
    "#             map_LH_ytr_d02.collate(), \n",
    "#                 map_LH_ctl_d03.collate(), \n",
    "#     map_LH_ytr_d03.collate()),\n",
    "#                     label='LH (Wm$^{-2}$)').cols(2)"
   ]
  },
  {
   "cell_type": "markdown",
   "metadata": {
    "ein.tags": "worksheet-0",
    "slideshow": {
     "slide_type": "-"
    }
   },
   "source": [
    "# Yatir parameterization #"
   ]
  },
  {
   "cell_type": "code",
   "execution_count": null,
   "metadata": {
    "autoscroll": false,
    "ein.hycell": false,
    "ein.tags": "worksheet-0",
    "scrolled": true,
    "slideshow": {
     "slide_type": "-"
    }
   },
   "outputs": [],
   "source": [
    "from io import StringIO\n",
    "from tabulate import tabulate\n",
    "vegparm = pd.read_csv(header=1, sep=',', filepath_or_buffer=StringIO(\"\"\"MODIFIED_IGBP_MODIS_NOAH\n",
    "ALBD,   SLMO,   SFEM,   SFZ0, THERIN,   SCFX,   SFHC, LANDCOVER\n",
    "1,     12.,   .30,   .95,   50.,    4.,  3.33, 29.2e5, 'Evergreen Needleleaf Forest'\n",
    "2,     12.,   .50,   .95,   50.,    5.,  1.67, 29.2e5, 'Evergreen Broadleaf Forest'\n",
    "3,     14.,   .30,   .94,   50.,    4.,  2.86, 25.0e5, 'Deciduous Needleleaf Forest'\n",
    "4,     16.,   .30,   .93,   50.,    4.,  2.63, 25.0e5, 'Deciduous Broadleaf Forest'\n",
    "5,     13.,   .30,   .97,   50.,    4.,  2.11, 41.8e5, 'Mixed Forests'\n",
    "6,     22.,   .10,   .93,    5.,    3.,  1.56, 20.8e5, 'Closed Shrublands'\n",
    "7,     20.,   .15,   .95,    6.,    3.,  2.14, 20.8e5, 'Open Shrublands'\n",
    "8,     22.,   .10,   .93,    5.,    3.,  1.56, 20.8e5, 'Woody Savannas'\n",
    "9,     20.,   .15,   .92,   15.,    3.,  2.00, 25.0e5, 'Savannas'\n",
    "10,    19.,   .15,   .96,   12.,    3.,  2.37, 20.8e5, 'Grasslands'\n",
    "11,    14.,   .42,   .95,   30.,   5.5,  1.32, 35.5e5, 'Permanent wetlands'\n",
    "12,    17.,   .30,  .985,   15.,    4.,  2.71, 25.0e5, 'Croplands'\n",
    "13,    15.,   .10,   .88,   80.,    3.,  1.67, 18.9e5, 'Urban and Built-Up'\n",
    "14,    18.,   .25,   .98,   14.,    4.,  2.56, 25.0e5, 'cropland/natural vegetation mosaic'\n",
    "15,    55.,   .95,   .95,   0.1,    5.,    0., 9.0e25, 'Snow and Ice'\n",
    "16,    25.,   .02,   .90,    1.,    2.,  0.81, 12.0e5, 'Barren or Sparsely Vegetated'\n",
    "17,     8.,   1.0,   .98,  0.01,    6.,    0., 9.0e25, 'Water'\n",
    "18,    15.,   .50,   .93,   30.,    5.,  2.67, 9.0e25, 'Wooded Tundra'\n",
    "19,    15.,   .50,   .92,   15.,    5.,  2.67, 9.0e25, 'Mixed Tundra'\n",
    "20,    12.,   .02,   .97,   50.,     3.,  1.67, 18.9e5, 'Yatir'\n",
    "21,    15.,   .02,   .88,   80.,    3.,  1.67, 18.9e5, 'Unassigned'\n",
    "22,    15.,   .02,   .88,   80.,    3.,  1.67, 18.9e5, 'Unassigned'\n",
    "23,    15.,   .02,   .88,   80.,    3.,  1.67, 18.9e5, 'Unassigned'\n",
    "24,    15.,   .02,   .88,   80.,    3.,  1.67, 18.9e5, 'Unassigned'\n",
    "25,    15.,   .02,   .88,   80.,    3.,  1.67, 18.9e5, 'Unassigned'\n",
    "26,    15.,   .02,   .88,   80.,    3.,  1.67, 18.9e5, 'Unassigned'\n",
    "27,    15.,   .02,   .88,   80.,    3.,  1.67, 18.9e5, 'Unassigned'\n",
    "28,    15.,   .02,   .88,   80.,    3.,  1.67, 18.9e5, 'Unassigned'\n",
    "29,    15.,   .02,   .88,   80.,    3.,  1.67, 18.9e5, 'Unassigned'\n",
    "30,    15.,   .02,   .88,   80.,    3.,  1.67, 18.9e5, 'Unassigned'\n",
    "31,    10.,   .10,   .97,   80.,    3.,  1.67, 18.9e5, 'Low Intensity Residential '\n",
    "32,    10.,   .10,   .97,   80.,    3.,  1.67, 18.9e5, 'High Intensity Residential'\n",
    "33,    10.,   .10,   .97,   80.,    3.,  1.67, 18.9e5, 'Industrial or Commercial'\"\"\"))\n",
    "landparm = pd.read_csv(header=1, sep=',', filepath_or_buffer=StringIO(\"\"\"MODIFIED_IGBP_MODIS_NOAH\n",
    "SHDFAC, NROOT,   RS,      RGL,      HS,      SNUP,  MAXALB,   LAIMIN,  LAIMAX,   EMISSMIN, EMISSMAX, ALBEDOMIN, ALBEDOMAX,   Z0MIN,   Z0MAX,   ZTOPV,    ZBOTV, LANDCOVER'\n",
    "1,       .70,   4,    125.,    30.,   47.35,   0.08,    52.,    5.00,   6.40,   .950,    .950,     .12,      .12,      .50,     .50,      17.0,     8.5,    'Evergreen Needleleaf Forest'\n",
    "2,      .95,   4,    150.,    30.,   41.69,   0.08,    35.,    3.08,   6.48,   .950,    .950,     .12,      .12,      .50,     .50,      35.0,     1.0,    'Evergreen Broadleaf Forest'\n",
    "3,      .70,   4,    150.,    30.,   47.35,   0.08,    54.,    1.00,   5.16,   .930,    .940,     .14,      .15,      .50,     .50,      14.0,     7.0,    'Deciduous Needleleaf Forest'\n",
    "4,      .80,   4,    100.,    30.,   54.53,   0.08,    58.,    1.85,   3.31,   .930,    .930,     .16,      .17,      .50,     .50,      20.0,    11.5,    'Deciduous Broadleaf Forest'\n",
    "5,      .80,   4,    125.,    30.,   51.93,   0.08,    53.,    2.80,   5.50,   .930,    .970,     .17,      .25,      .20,     .50,      18.0,    10.0,    'Mixed Forests'\n",
    "6,      .70,   3,    300.,   100.,   42.00,   0.03,    60.,    0.50,   3.66,   .930,    .930,     .25,      .30,      .01,     .05,      0.50,    0.10,    'Closed Shrublands'\n",
    "7,      .70,   3,    170.,   100.,   39.18,  0.035,    65.,    0.60,   2.60,   .930,    .950,     .22,      .30,      .01,     .06,      0.50,    0.10,    'Open Shrublands'\n",
    "8,      .70,   3,    300.,   100.,   42.00,   0.03,    60.,    0.50,   3.66,   .930,    .930,     .25,      .30,      .01,     .05,      0.50,    0.10,    'Woody Savannas'\n",
    "9,      .50,   3,     70.,    65.,   54.53,   0.04,    50.,    0.50,   3.66,   .920,    .920,     .20,      .20,      .15,     .15,      0.50,    0.10,    'Savannas'\n",
    "10,     .80,   3,     40.,   100.,   36.35,   0.04,    70.,    0.52,   2.90,   .920,    .960,     .19,      .23,      .10,     .12,      0.50,    0.01,    'Grasslands'\n",
    "11,      .60,   2,     70.,    65.,   55.97,   0.015,     59.,    1.75,   5.72,   .950,    .950,     .14,      .14,      .30,     .30,      0.00,    0.00,    'Permanent wetlands'\n",
    "12,     .80,   3,     40.,   100.,   36.25,   0.04,    66.,    1.56,   5.68,   .920,    .985,     .17,      .23,      .05,     .15,      0.50,    0.01,    'Croplands'\n",
    "13,     .10,   1,    200.,   999.,   999.0,   0.04,    46.,    1.00,   1.00,   .880,    .880,     .15,      .15,      .50,     .50,      0.00,    0.00,    'Urban and Built-Up'\n",
    "14,      .80,   3,     40.,   100.,   36.25,   0.04,    68.,    2.29,   4.29,   .920,    .980,     .18,      .23,      .05,     .14,      0.50,    0.01,    'cropland/natural vegetation mosaic'\n",
    "15,     .00,   1,    999.,   999.,   999.0,   0.02,    82.,    0.01,   0.01,   .950,    .950,     .55,      .70,    0.001,   0.001,      0.00,    0.00,    'Snow and Ice'\n",
    "16,     .01,   1,    999.,   999.,   999.0,   0.02,    75.,    0.10,   0.75,   .900,    .900,     .38,      .38,      .01,     .01,      0.02,    0.01,    'Barren or Sparsely Vegetated'\n",
    "17,     .00,   0,    100.,    30.,   51.75,   0.01,    70.,    0.01,   0.01,   .980,    .980,     .08,      .08,   0.0001,  0.0001,      0.00,    0.00,    'Water'\n",
    "18,     .60,   3,    150.,   100.,   42.00,  0.025,    55.,    0.41,   3.35,   .930,    .930,     .15,      .20,      .30,     .30,      10.0,    0.10,    'Wooded Tundra'\n",
    "19,     .60,   3,    150.,   100.,   42.00,  0.025,    60.,    0.41,   3.35,   .920,    .920,     .15,      .20,      .15,     .15,      5.00,    0.10,    'Mixed Tundra'\n",
    "20,     .56,   4,    286.,    30.,   47.35,   0.08,    52.,    3.00,   3.00,   .970,    .970,     .12,      .12,      2.0,     2.0,      10.0,     1.0,    'Yatir'\"\"\"))"
   ]
  },
  {
   "cell_type": "code",
   "execution_count": null,
   "metadata": {
    "autoscroll": false,
    "ein.hycell": false,
    "ein.tags": "worksheet-0",
    "scrolled": true,
    "slideshow": {
     "slide_type": "-"
    }
   },
   "outputs": [],
   "source": [
    "print(tabulate(vegparm, headers='keys', tablefmt='pipe'))"
   ]
  },
  {
   "cell_type": "code",
   "execution_count": null,
   "metadata": {
    "autoscroll": false,
    "ein.hycell": false,
    "ein.tags": "worksheet-0",
    "scrolled": false,
    "slideshow": {
     "slide_type": "-"
    }
   },
   "outputs": [],
   "source": [
    "print(tabulate(landparm, headers='keys', tablefmt='pipe'))"
   ]
  },
  {
   "cell_type": "markdown",
   "metadata": {
    "ein.tags": "worksheet-0",
    "slideshow": {
     "slide_type": "-"
    }
   },
   "source": [
    "#### VEGPARM.TBL ####\n",
    "|    |   ALBD |      SLMO |      SFEM |      SFZ0 |    THERIN |      SCFX |      SFHC |  LANDCOVER                           |\n",
    "|---:|-------:|----------:|----------:|----------:|----------:|----------:|----------:|:-------------------------------------|\n",
    "|  1 |     12 |      0.3  |     0.95  |     50    |       4   |      3.33 |  2.92e+06 | 'Evergreen Needleleaf Forest'        |\n",
    "|  2 |     12 |      0.5  |     0.95  |     50    |       5   |      1.67 |  2.92e+06 | 'Evergreen Broadleaf Forest'         |\n",
    "|  3 |     14 |      0.3  |     0.94  |     50    |       4   |      2.86 |  2.5e+06  | 'Deciduous Needleleaf Forest'        |\n",
    "|  4 |     16 |      0.3  |     0.93  |     50    |       4   |      2.63 |  2.5e+06  | 'Deciduous Broadleaf Forest'         |\n",
    "|  5 |     13 |      0.3  |     0.97  |     50    |       4   |      2.11 |  4.18e+06 | 'Mixed Forests'                      |\n",
    "|  6 |     22 |      0.1  |     0.93  |      5    |       3   |      1.56 |  2.08e+06 | 'Closed Shrublands'                  |\n",
    "|  7 |     20 |      0.15 |     0.95  |      6    |       3   |      2.14 |  2.08e+06 | 'Open Shrublands'                    |\n",
    "|  8 |     22 |      0.1  |     0.93  |      5    |       3   |      1.56 |  2.08e+06 | 'Woody Savannas'                     |\n",
    "|  9 |     20 |      0.15 |     0.92  |     15    |       3   |      2    |  2.5e+06  | 'Savannas'                           |\n",
    "| 10 |     19 |      0.15 |     0.96  |     12    |       3   |      2.37 |  2.08e+06 | 'Grasslands'                         |\n",
    "| 11 |     14 |      0.42 |     0.95  |     30    |       5.5 |      1.32 |  3.55e+06 | 'Permanent wetlands'                 |\n",
    "| 12 |     17 |      0.3  |     0.985 |     15    |       4   |      2.71 |  2.5e+06  | 'Croplands'                          |\n",
    "| 13 |     15 |      0.1  |     0.88  |     80    |       3   |      1.67 |  1.89e+06 | 'Urban and Built-Up'                 |\n",
    "| 14 |     18 |      0.25 |     0.98  |     14    |       4   |      2.56 |  2.5e+06  | 'cropland/natural vegetation mosaic' |\n",
    "| 15 |     55 |      0.95 |     0.95  |      0.1  |       5   |      0    |  9e+25    | 'Snow and Ice'                       |\n",
    "| 16 |     25 |      0.02 |     0.9   |      1    |       2   |      0.81 |  1.2e+06  | 'Barren or Sparsely Vegetated'       |\n",
    "| 17 |      8 |      1    |     0.98  |      0.01 |       6   |      0    |  9e+25    | 'Water'                              |\n",
    "| 18 |     15 |      0.5  |     0.93  |     30    |       5   |      2.67 |  9e+25    | 'Wooded Tundra'                      |\n",
    "| 19 |     15 |      0.5  |     0.92  |     15    |       5   |      2.67 |  9e+25    | 'Mixed Tundra'                       |\n",
    "| 20 |     12 |      0.02 |     0.97  |     50    |       3   |      1.67 |  1.89e+06 | 'Yatir'                              |\n",
    "| 21 |     15 |      0.02 |     0.88  |     80    |       3   |      1.67 |  1.89e+06 | 'Unassigned'                         |\n",
    "| 22 |     15 |      0.02 |     0.88  |     80    |       3   |      1.67 |  1.89e+06 | 'Unassigned'                         |\n",
    "| 23 |     15 |      0.02 |     0.88  |     80    |       3   |      1.67 |  1.89e+06 | 'Unassigned'                         |\n",
    "| 24 |     15 |      0.02 |     0.88  |     80    |       3   |      1.67 |  1.89e+06 | 'Unassigned'                         |\n",
    "| 25 |     15 |      0.02 |     0.88  |     80    |       3   |      1.67 |  1.89e+06 | 'Unassigned'                         |\n",
    "| 26 |     15 |      0.02 |     0.88  |     80    |       3   |      1.67 |  1.89e+06 | 'Unassigned'                         |\n",
    "| 27 |     15 |      0.02 |     0.88  |     80    |       3   |      1.67 |  1.89e+06 | 'Unassigned'                         |\n",
    "| 28 |     15 |      0.02 |     0.88  |     80    |       3   |      1.67 |  1.89e+06 | 'Unassigned'                         |\n",
    "| 29 |     15 |      0.02 |     0.88  |     80    |       3   |      1.67 |  1.89e+06 | 'Unassigned'                         |\n",
    "| 30 |     15 |      0.02 |     0.88  |     80    |       3   |      1.67 |  1.89e+06 | 'Unassigned'                         |\n",
    "| 31 |     10 |      0.1  |     0.97  |     80    |       3   |      1.67 |  1.89e+06 | 'Low Intensity Residential '         |\n",
    "| 32 |     10 |      0.1  |     0.97  |     80    |       3   |      1.67 |  1.89e+06 | 'High Intensity Residential'         |\n",
    "| 33 |     10 |      0.1  |     0.97  |     80    |       3   |      1.67 |  1.89e+06 | 'Industrial or Commercial'           |"
   ]
  },
  {
   "cell_type": "markdown",
   "metadata": {
    "ein.tags": "worksheet-0",
    "slideshow": {
     "slide_type": "-"
    }
   },
   "source": [
    "#### LANDPARM.TBL ####\n",
    "|    |   SHDFAC |    NROOT |      RS |         RGL |         HS |         SNUP |     MAXALB |      LAIMIN |     LAIMAX |      EMISSMIN |    EMISSMAX |    ALBEDOMIN |    ALBEDOMAX |      Z0MIN |      Z0MAX |      ZTOPV |       ZBOTV |  LANDCOVER'                          |\n",
    "|---:|---------:|---------:|--------:|------------:|-----------:|-------------:|-----------:|------------:|-----------:|--------------:|------------:|-------------:|-------------:|-----------:|-----------:|-----------:|------------:|:-------------------------------------|\n",
    "|  1 |     0.7  |        4 |     125 |          30 |      47.35 |        0.08  |         52 |        5    |       6.4  |          0.95 |       0.95  |         0.12 |         0.12 |     0.5    |     0.5    |      17    |        8.5  | 'Evergreen Needleleaf Forest'        |\n",
    "|  2 |     0.95 |        4 |     150 |          30 |      41.69 |        0.08  |         35 |        3.08 |       6.48 |          0.95 |       0.95  |         0.12 |         0.12 |     0.5    |     0.5    |      35    |        1    | 'Evergreen Broadleaf Forest'         |\n",
    "|  3 |     0.7  |        4 |     150 |          30 |      47.35 |        0.08  |         54 |        1    |       5.16 |          0.93 |       0.94  |         0.14 |         0.15 |     0.5    |     0.5    |      14    |        7    | 'Deciduous Needleleaf Forest'        |\n",
    "|  4 |     0.8  |        4 |     100 |          30 |      54.53 |        0.08  |         58 |        1.85 |       3.31 |          0.93 |       0.93  |         0.16 |         0.17 |     0.5    |     0.5    |      20    |       11.5  | 'Deciduous Broadleaf Forest'         |\n",
    "|  5 |     0.8  |        4 |     125 |          30 |      51.93 |        0.08  |         53 |        2.8  |       5.5  |          0.93 |       0.97  |         0.17 |         0.25 |     0.2    |     0.5    |      18    |       10    | 'Mixed Forests'                      |\n",
    "|  6 |     0.7  |        3 |     300 |         100 |      42    |        0.03  |         60 |        0.5  |       3.66 |          0.93 |       0.93  |         0.25 |         0.3  |     0.01   |     0.05   |       0.5  |        0.1  | 'Closed Shrublands'                  |\n",
    "|  7 |     0.7  |        3 |     170 |         100 |      39.18 |        0.035 |         65 |        0.6  |       2.6  |          0.93 |       0.95  |         0.22 |         0.3  |     0.01   |     0.06   |       0.5  |        0.1  | 'Open Shrublands'                    |\n",
    "|  8 |     0.7  |        3 |     300 |         100 |      42    |        0.03  |         60 |        0.5  |       3.66 |          0.93 |       0.93  |         0.25 |         0.3  |     0.01   |     0.05   |       0.5  |        0.1  | 'Woody Savannas'                     |\n",
    "|  9 |     0.5  |        3 |      70 |          65 |      54.53 |        0.04  |         50 |        0.5  |       3.66 |          0.92 |       0.92  |         0.2  |         0.2  |     0.15   |     0.15   |       0.5  |        0.1  | 'Savannas'                           |\n",
    "| 10 |     0.8  |        3 |      40 |         100 |      36.35 |        0.04  |         70 |        0.52 |       2.9  |          0.92 |       0.96  |         0.19 |         0.23 |     0.1    |     0.12   |       0.5  |        0.01 | 'Grasslands'                         |\n",
    "| 11 |     0.6  |        2 |      70 |          65 |      55.97 |        0.015 |         59 |        1.75 |       5.72 |          0.95 |       0.95  |         0.14 |         0.14 |     0.3    |     0.3    |       0    |        0    | 'Permanent wetlands'                 |\n",
    "| 12 |     0.8  |        3 |      40 |         100 |      36.25 |        0.04  |         66 |        1.56 |       5.68 |          0.92 |       0.985 |         0.17 |         0.23 |     0.05   |     0.15   |       0.5  |        0.01 | 'Croplands'                          |\n",
    "| 13 |     0.1  |        1 |     200 |         999 |     999    |        0.04  |         46 |        1    |       1    |          0.88 |       0.88  |         0.15 |         0.15 |     0.5    |     0.5    |       0    |        0    | 'Urban and Built-Up'                 |\n",
    "| 14 |     0.8  |        3 |      40 |         100 |      36.25 |        0.04  |         68 |        2.29 |       4.29 |          0.92 |       0.98  |         0.18 |         0.23 |     0.05   |     0.14   |       0.5  |        0.01 | 'cropland/natural vegetation mosaic' |\n",
    "| 15 |     0    |        1 |     999 |         999 |     999    |        0.02  |         82 |        0.01 |       0.01 |          0.95 |       0.95  |         0.55 |         0.7  |     0.001  |     0.001  |       0    |        0    | 'Snow and Ice'                       |\n",
    "| 16 |     0.01 |        1 |     999 |         999 |     999    |        0.02  |         75 |        0.1  |       0.75 |          0.9  |       0.9   |         0.38 |         0.38 |     0.01   |     0.01   |       0.02 |        0.01 | 'Barren or Sparsely Vegetated'       |\n",
    "| 17 |     0    |        0 |     100 |          30 |      51.75 |        0.01  |         70 |        0.01 |       0.01 |          0.98 |       0.98  |         0.08 |         0.08 |     0.0001 |     0.0001 |       0    |        0    | 'Water'                              |\n",
    "| 18 |     0.6  |        3 |     150 |         100 |      42    |        0.025 |         55 |        0.41 |       3.35 |          0.93 |       0.93  |         0.15 |         0.2  |     0.3    |     0.3    |      10    |        0.1  | 'Wooded Tundra'                      |\n",
    "| 19 |     0.6  |        3 |     150 |         100 |      42    |        0.025 |         60 |        0.41 |       3.35 |          0.92 |       0.92  |         0.15 |         0.2  |     0.15   |     0.15   |       5    |        0.1  | 'Mixed Tundra'                       |\n",
    "| 20 |     0.56 |        4 |     286 |          30 |      47.35 |        0.08  |         52 |        3    |       3    |          0.97 |       0.97  |         0.12 |         0.12 |     2      |     2      |      10    |        1    | 'Yatir'                              |"
   ]
  },
  {
   "cell_type": "markdown",
   "metadata": {
    "ein.tags": "worksheet-0",
    "slideshow": {
     "slide_type": "-"
    }
   },
   "source": [
    "# Sensible Heat #"
   ]
  },
  {
   "cell_type": "markdown",
   "metadata": {
    "ein.tags": "worksheet-0",
    "slideshow": {
     "slide_type": "-"
    }
   },
   "source": [
    "Yatir sensible heat flux in late August 2015 was 368.8 to 434.4 W m$^{-2}$ ([Brugger et al 2018](https://doi.org/10.1007/s10546-018-0371-5). Table 3).  There was a strong diurnal cycle for both sites (forest and desert).  Note the figure units are K m s$^{-1}$.  Figure from [Banerjee et al, 2018]([www.atmos-chem-phys.net/18/10025/2018/).\n",
    "            <img src=\"./Banergee_etal_ACP_2018_fig3.pdf\" width=900/>"
   ]
  },
  {
   "cell_type": "code",
   "execution_count": null,
   "metadata": {
    "autoscroll": false,
    "ein.hycell": false,
    "ein.tags": "worksheet-0",
    "scrolled": true,
    "slideshow": {
     "slide_type": "-"
    }
   },
   "outputs": [],
   "source": [
    "dscombined = xr.concat((HFXytr_d03, HFXctl_d03), dim=pd.Index(['Yatir', 'Control'], name='WRFrun'))\n",
    "hvds = hv.Dataset(dscombined, kdims=['time', 'x', 'y', 'WRFrun'], vdims=['HFX', 'lat', 'lon'])"
   ]
  },
  {
   "cell_type": "code",
   "execution_count": null,
   "metadata": {
    "autoscroll": false,
    "ein.hycell": false,
    "ein.tags": "worksheet-0",
    "scrolled": false,
    "slideshow": {
     "slide_type": "-"
    }
   },
   "outputs": [],
   "source": [
    "HFXmean = dscombined.groupby('WRFrun').mean(dim=['x', 'y'])\n",
    "df = HFXmean.to_dataframe()\n",
    "df.reset_index()\n",
    "sns.set(rc={\"figure.figsize\": (12, 8)})\n",
    "fig, ax = plt.subplots(2, 1, sharex='col')\n",
    "ylims = ([360, 450], None)\n",
    "for this_ax, this_ylims in zip(ax, ylims):\n",
    "    hfx_plt = sns.lineplot(x='time', \n",
    "                 y='HFX', \n",
    "                 hue='WRFrun', \n",
    "                 style='WRFrun', \n",
    "                 data=df.reset_index(),\n",
    "                 ax=this_ax).set(ylim=this_ylims, \n",
    "                                 ylabel='HFX (W m$^{-2}$)')\n",
    "fig_title = fig.suptitle('all cells in inner domain')\n"
   ]
  },
  {
   "cell_type": "code",
   "execution_count": null,
   "metadata": {
    "autoscroll": false,
    "ein.hycell": false,
    "ein.tags": "worksheet-0",
    "slideshow": {
     "slide_type": "-"
    }
   },
   "outputs": [],
   "source": [
    "%matplotlib inline\n",
    "HFX_masked = dscombined.where(dscombined.yatir_mask)\n",
    "gv.Dataset(HFX_masked).to(hv.QuadMesh, ['x', 'y'])[:, ::10, :, :]"
   ]
  },
  {
   "cell_type": "code",
   "execution_count": null,
   "metadata": {
    "autoscroll": false,
    "ein.hycell": false,
    "ein.tags": "worksheet-0",
    "slideshow": {
     "slide_type": "-"
    }
   },
   "outputs": [],
   "source": [
    "%matplotlib inline\n",
    "HFX_masked = dscombined.where(dscombined.yatir_mask)\n",
    "gv.Dataset(HFX_masked, kdims=['WRFrun', 'time', 'lon', 'lat']).to(hv.QuadMesh, ['lon', 'lat'])[:, ::10, :, :]"
   ]
  },
  {
   "cell_type": "markdown",
   "metadata": {
    "ein.tags": "worksheet-0",
    "slideshow": {
     "slide_type": "-"
    }
   },
   "source": [
    "Make a holomap of mean HFX for all d03 cells.  The holomap provides the option to switch between WRFrun values \"Control\" and \"Yatir\".  Also demonstrate the proper syntax for specifying plot size using Matplotlib."
   ]
  },
  {
   "cell_type": "code",
   "execution_count": null,
   "metadata": {
    "autoscroll": false,
    "ein.hycell": false,
    "ein.tags": "worksheet-0",
    "slideshow": {
     "slide_type": "-"
    }
   },
   "outputs": [],
   "source": [
    "gvds = gv.Dataset(dscombined, kdims=['WRFrun', 'time', 'x', 'y'])\n",
    "cv = gvds.reduce(['x', 'y'], function=np.mean).to(hv.Curve, ['time'], 'HFX')\n",
    "cv.opts(aspect=2, fig_inches=10, fig_bounds=(0, 0, 1, 1))"
   ]
  },
  {
   "cell_type": "markdown",
   "metadata": {
    "ein.tags": "worksheet-0",
    "slideshow": {
     "slide_type": "-"
    }
   },
   "source": [
    "Make a single hv.Curve plot of  mean HFX for all d03 cells for control run only."
   ]
  },
  {
   "cell_type": "code",
   "execution_count": null,
   "metadata": {
    "autoscroll": false,
    "ein.hycell": false,
    "ein.tags": "worksheet-0",
    "slideshow": {
     "slide_type": "-"
    }
   },
   "outputs": [],
   "source": [
    "gvds = gv.Dataset(dscombined, kdims=['WRFrun', 'time', 'x', 'y'])\n",
    "cv = gvds.reduce(['x', 'y'], function=np.mean).select(WRFrun='Control').to(hv.Curve, ['time'], 'HFX')\n",
    "cv"
   ]
  },
  {
   "cell_type": "markdown",
   "metadata": {},
   "source": [
    "Plot HFX for both WRF runs (Control, Yatir) overlaid on a single axes."
   ]
  },
  {
   "cell_type": "code",
   "execution_count": null,
   "metadata": {
    "autoscroll": false,
    "ein.hycell": false,
    "ein.tags": "worksheet-0",
    "scrolled": false,
    "slideshow": {
     "slide_type": "-"
    }
   },
   "outputs": [],
   "source": [
    "hv.extension('bokeh')\n",
    "gvds = gv.Dataset(dscombined, kdims=['WRFrun', 'time', 'x', 'y'])\n",
    "WRF_run_labels = dscombined['WRFrun'].values\n",
    "line_styles = ['solid', 'dashed']\n",
    "cv = [hv.Curve(gvds.reduce(['x', 'y'], \n",
    "                           function=np.mean).select(WRFrun=this_run), \n",
    "               'time', \n",
    "               label=this_run).opts(opts.Curve(line_dash=this_linestyle, line_width=1))\n",
    "      for this_run, this_linestyle in zip(WRF_run_labels, line_styles)]\n",
    "overlay_opts=opts.Overlay(frame_width=690, legend_position='right', ylim=(0, 450))\n",
    "cv_hfx = hv.Overlay(cv).opts(overlay_opts)\n",
    "overlay_opts=opts.Overlay(frame_width=690, legend_position='right', ylim=(350, 450))\n",
    "cv_hfx_zoomed = hv.Overlay(cv).opts(overlay_opts)\n",
    "hv.Layout([cv_hfx, cv_hfx_zoomed]).cols(1).options(axiswise=True)"
   ]
  },
  {
   "cell_type": "code",
   "execution_count": null,
   "metadata": {
    "autoscroll": false,
    "ein.hycell": false,
    "ein.tags": "worksheet-0",
    "scrolled": true,
    "slideshow": {
     "slide_type": "-"
    }
   },
   "outputs": [],
   "source": [
    "hv.QuadMesh(hvds.select(WRFrun='Control', time='2015-08-15T23:30:00'), ['lon', 'lat'])"
   ]
  },
  {
   "cell_type": "code",
   "execution_count": null,
   "metadata": {
    "autoscroll": false,
    "ein.hycell": false,
    "ein.tags": "worksheet-0",
    "scrolled": true,
    "slideshow": {
     "slide_type": "-"
    }
   },
   "outputs": [],
   "source": [
    "hv.QuadMesh(hvds.select(WRFrun='Control', time='2015-08-15T23:30:00'), ['lon', 'lat']) + hv.QuadMesh(hvds.select(WRFrun='Yatir', time='2015-08-15T23:30:00'), ['lon', 'lat'])"
   ]
  }
 ],
 "metadata": {
  "kernelspec": {
   "display_name": "Python 3",
   "language": "python",
   "name": "python3"
  },
  "language_info": {
   "codemirror_mode": {
    "name": "ipython",
    "version": 3
   },
   "file_extension": ".py",
   "mimetype": "text/x-python",
   "name": "python",
   "nbconvert_exporter": "python",
   "pygments_lexer": "ipython3",
   "version": "3.7.1"
  },
  "name": "yatir_visualization.ipynb"
 },
 "nbformat": 4,
 "nbformat_minor": 4
}

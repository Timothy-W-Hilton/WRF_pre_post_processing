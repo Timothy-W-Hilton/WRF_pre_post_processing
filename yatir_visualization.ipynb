{
 "cells": [
  {
   "cell_type": "code",
   "execution_count": null,
   "metadata": {
    "autoscroll": false,
    "collapsed": false,
    "ein.hycell": false,
    "ein.tags": "worksheet-0",
    "slideshow": {
     "slide_type": "-"
    }
   },
   "outputs": [],
   "source": [
    "import os\n",
    "import numpy as np\n",
    "import xarray as xr\n",
    "import holoviews as hv\n",
    "import geoviews as gv\n",
    "import geoviews.feature as gf\n",
    "\n",
    "import geoviews_tools as gt\n",
    "\n",
    "gv.extension('matplotlib')"
   ]
  },
  {
   "cell_type": "code",
   "execution_count": null,
   "metadata": {
    "autoscroll": false,
    "collapsed": false,
    "ein.hycell": false,
    "ein.tags": "worksheet-0",
    "slideshow": {
     "slide_type": "-"
    }
   },
   "outputs": [],
   "source": [
    "\n",
    "ntime = 3\n",
    "cscratch_path = os.path.join('/', 'global', 'cscratch1', 'sd', 'twhilton')\n",
    "cscratch_path = '/Users/tim/work/Data/SummenWRF/yatir/'\n",
    "LHctl_d03 = gt.yatir_to_xarray(os.path.join(cscratch_path, 'LH_d03_yatirZ50.nc'),\n",
    "                               varname='LH',\n",
    "                               groupname='ctl',\n",
    "                               timerange=ntime)\n",
    "LHytr_d03 = gt.yatir_to_xarray(os.path.join(cscratch_path, 'LH_d03_yatirZ50.nc'),\n",
    "                               varname='LH',\n",
    "                               groupname='yatirZ050',\n",
    "                               timerange=ntime)\n",
    "LHctl_d02 = gt.yatir_to_xarray(os.path.join(cscratch_path, 'LH_d02_yatirZ50.nc'),\n",
    "                               varname='LH',\n",
    "                               groupname='ctl',\n",
    "                               timerange=ntime)\n",
    "LHytr_d02 = gt.yatir_to_xarray(os.path.join(cscratch_path, 'LH_d02_yatirZ50.nc'),\n",
    "                               varname='LH',\n",
    "                               groupname='yatirZ050',\n",
    "                               timerange=ntime)"
   ]
  },
  {
   "cell_type": "code",
   "execution_count": null,
   "metadata": {
    "autoscroll": false,
    "collapsed": false,
    "ein.hycell": false,
    "ein.tags": "worksheet-0",
    "slideshow": {
     "slide_type": "-"
    }
   },
   "outputs": [],
   "source": [
    "pad03 = 0.1\n",
    "pad02 = 1.0\n",
    "lon_d03 = LHctl_d03.lon.values\n",
    "lat_d03 = LHctl_d03.lat.values\n",
    "lon_d02 = LHctl_d02.lon.values\n",
    "lat_d02 = LHctl_d02.lat.values"
   ]
  },
  {
   "cell_type": "markdown",
   "metadata": {
    "ein.tags": "worksheet-0",
    "slideshow": {
     "slide_type": "-"
    }
   },
   "source": [
    "Plot the data using GeoViews with matplotlib.  The plot shows up (correctly) in the area surrounding [Yatir Forest](https://en.wikipedia.org/wiki/Yatir_Forest)."
   ]
  },
  {
   "cell_type": "code",
   "execution_count": null,
   "metadata": {
    "autoscroll": false,
    "collapsed": false,
    "ein.hycell": false,
    "ein.tags": "worksheet-0",
    "slideshow": {
     "slide_type": "-"
    }
   },
   "outputs": [],
   "source": [
    "def draw_map(data_d02, data_d03, groupname=''):\n",
    "    map_d02 = hv.Overlay((gf.land.options(scale='50m'),\n",
    "                         gf.coastline.options(scale='50m'),\n",
    "                         gf.borders.options(scale='50m'),\n",
    "                         gv.Dataset(LHytr_d02).to(gv.QuadMesh,\n",
    "                                                  groupby='time').opts(\n",
    "                             xlim=(lat_d02.min() - pad02, \n",
    "                                   lat_d02.max() + pad02), \n",
    "                             ylim=(lon_d02.min() - pad02, \n",
    "                                   lon_d02.max() + pad02)),\n",
    "                         hv.Bounds((lat_d03.min(), \n",
    "                                    lon_d03.min(), \n",
    "                                    lat_d03.max(), \n",
    "                                    lon_d03.max())).opts(color='blue')),\n",
    "                         group=groupname,\n",
    "                         label='d02')\n",
    "    map_d03 = hv.Overlay((gf.land.options(scale='50m'), \n",
    "                          gf.ocean.options(scale='50m'),\n",
    "                          gf.coastline.options(scale='50m'),\n",
    "                          gf.borders.options(scale='50m'),\n",
    "                          gv.Dataset(LHytr_d03, \n",
    "                                     group=groupname, \n",
    "                                     label='d03').to(gv.QuadMesh, \n",
    "                                                     groupby='time').opts(\n",
    "                              xlim=(lat_d03.min() - pad03, \n",
    "                                    lat_d03.max() + pad03), \n",
    "                              ylim=(lon_d03.min() - pad03, \n",
    "                                    lon_d03.max() + pad03)),\n",
    "                          hv.Bounds((lat_d03.min(), \n",
    "                                     lon_d03.min(), \n",
    "                                     lat_d03.max(), \n",
    "                                     lon_d03.max())).opts(color='blue')),\n",
    "                         group=groupname,\n",
    "                         label='d03')\n",
    "    return(map_d02, map_d03)"
   ]
  },
  {
   "cell_type": "code",
   "execution_count": null,
   "metadata": {
    "autoscroll": false,
    "collapsed": false,
    "ein.hycell": false,
    "ein.tags": "worksheet-0",
    "scrolled": true,
    "slideshow": {
     "slide_type": "-"
    }
   },
   "outputs": [],
   "source": [
    "hv.output(max_frames=ntime)\n",
    "map_LH_ytr_d02, map_LH_ytr_d03 = gt.build_geoviews_comparison(LHytr_d02, LHytr_d03)\n",
    "map_LH_ctl_d02, map_LH_ctl_d03 = gt.build_geoviews_comparison(LHctl_d02, LHytr_d03)"
   ]
  },
  {
   "cell_type": "code",
   "execution_count": null,
   "metadata": {
    "autoscroll": false,
    "collapsed": false,
    "ein.hycell": false,
    "ein.tags": "worksheet-0",
    "slideshow": {
     "slide_type": "-"
    }
   },
   "outputs": [],
   "source": [
    "LHmaps = hv.Layout((map_LH_ctl_d02.collate(), \n",
    "                    map_LH_ytr_d02.collate(), \n",
    "                    map_LH_ctl_d03.collate(), \n",
    "                    map_LH_ytr_d03.collate()),\n",
    "                  label='LH (Wm$^{-2}$)').cols(2)"
   ]
  },
  {
   "cell_type": "code",
   "execution_count": null,
   "metadata": {
    "autoscroll": false,
    "collapsed": false,
    "ein.hycell": false,
    "ein.tags": "worksheet-0",
    "slideshow": {
     "slide_type": "-"
    }
   },
   "outputs": [],
   "source": [
    "LHmaps"
   ]
  },
  {
   "cell_type": "code",
   "execution_count": null,
   "metadata": {
    "autoscroll": false,
    "collapsed": false,
    "ein.hycell": false,
    "ein.tags": "worksheet-0",
    "slideshow": {
     "slide_type": "-"
    }
   },
   "outputs": [],
   "source": [
    "map_LH_ctl_d03 + map_LH_ytr_d03"
   ]
  },
  {
   "cell_type": "code",
   "execution_count": null,
   "metadata": {
    "autoscroll": false,
    "collapsed": false,
    "ein.hycell": false,
    "ein.tags": "worksheet-0",
    "slideshow": {
     "slide_type": "-"
    }
   },
   "outputs": [],
   "source": [
    "LHmaps = hv.Layout((map_LH_ctl_d02.collate(), \n",
    "            map_LH_ytr_d02.collate(), \n",
    "                map_LH_ctl_d03.collate(), \n",
    "    map_LH_ytr_d03.collate()),\n",
    "                    label='LH (Wm$^{-2}$)').cols(2)"
   ]
  }
 ],
 "metadata": {
  "kernelspec": {
   "argv": [
    "/Users/tim/anaconda3/envs/WRFhv/bin/python",
    "-m",
    "ipykernel_launcher",
    "-f",
    "{connection_file}"
   ],
   "display_name": "Python 3",
   "env": null,
   "interrupt_mode": "signal",
   "language": "python",
   "metadata": null,
   "name": "python3"
  },
  "language_info": {
   "codemirror_mode": {
    "name": "ipython",
    "version": 3
   },
   "file_extension": ".py",
   "mimetype": "text/x-python",
   "name": "python",
   "nbconvert_exporter": "python",
   "pygments_lexer": "ipython3",
   "version": "3.7.1"
  },
  "name": "yatir_visualization.ipynb"
 },
 "nbformat": 4,
 "nbformat_minor": 4
}

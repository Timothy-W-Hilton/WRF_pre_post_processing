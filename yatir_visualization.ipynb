{
 "cells": [
  {
   "cell_type": "code",
   "execution_count": null,
   "metadata": {
    "autoscroll": false,
    "ein.hycell": false,
    "ein.tags": "worksheet-0",
    "slideshow": {
     "slide_type": "-"
    }
   },
   "outputs": [],
   "source": [
    "import os\n",
    "import numpy as np\n",
    "import xarray as xr\n",
    "import holoviews as hv\n",
    "import geoviews as gv\n",
    "import geoviews.feature as gf\n",
    "\n",
    "import geoviews_tools as gt\n",
    "\n",
    "gv.extension('matplotlib')"
   ]
  },
  {
   "cell_type": "code",
   "execution_count": null,
   "metadata": {
    "autoscroll": false,
    "ein.hycell": false,
    "ein.tags": "worksheet-0",
    "slideshow": {
     "slide_type": "-"
    }
   },
   "outputs": [],
   "source": [
    "\n",
    "ntime = 3\n",
    "cscratch_path = os.path.join('/', 'global', 'cscratch1', 'sd', 'twhilton')\n",
    "cscratch_path = '/Users/tim/work/Data/SummenWRF/yatir/'\n",
    "LHctl_d03 = gt.yatir_to_xarray(os.path.join(cscratch_path, 'LH_d03_yatirZ50.nc'),\n",
    "                               varname='LH',\n",
    "                               groupname='ctl',\n",
    "                               timerange=ntime)\n",
    "LHytr_d03 = gt.yatir_to_xarray(os.path.join(cscratch_path, 'LH_d03_yatirZ50.nc'),\n",
    "                               varname='LH',\n",
    "                               groupname='yatirZ050',\n",
    "                               timerange=ntime)\n",
    "LHctl_d02 = gt.yatir_to_xarray(os.path.join(cscratch_path, 'LH_d02_yatirZ50.nc'),\n",
    "                               varname='LH',\n",
    "                               groupname='ctl',\n",
    "                               timerange=ntime)\n",
    "LHytr_d02 = gt.yatir_to_xarray(os.path.join(cscratch_path, 'LH_d02_yatirZ50.nc'),\n",
    "                               varname='LH',\n",
    "                               groupname='yatirZ050',\n",
    "                               timerange=ntime)\n",
    "\n",
    "ntime = 720\n",
    "HFXctl_d03 = gt.yatir_to_xarray(os.path.join(cscratch_path, 'HFX_d03_yatirZ50.nc'),\n",
    "                                varname='HFX',\n",
    "                                groupname='ctl',\n",
    "                                timerange=ntime)\n",
    "HFXytr_d03 = gt.yatir_to_xarray(os.path.join(cscratch_path, 'HFX_d03_yatirZ50.nc'),\n",
    "                                varname='HFX',\n",
    "                                groupname='yatirZ050',\n",
    "                                timerange=ntime)\n",
    "HFXctl_d02 = gt.yatir_to_xarray(os.path.join(cscratch_path, 'HFX_d02_yatirZ50.nc'),\n",
    "                                varname='HFX',\n",
    "                                groupname='ctl',\n",
    "                                timerange=ntime)\n",
    "HFXytr_d02 = gt.yatir_to_xarray(os.path.join(cscratch_path, 'HFX_d02_yatirZ50.nc'),\n",
    "                                varname='HFX',\n",
    "                                groupname='yatirZ050',\n",
    "                                timerange=ntime)"
   ]
  },
  {
   "cell_type": "code",
   "execution_count": null,
   "metadata": {
    "autoscroll": false,
    "ein.hycell": false,
    "ein.tags": "worksheet-0",
    "slideshow": {
     "slide_type": "-"
    }
   },
   "outputs": [],
   "source": [
    "pad03 = 0.1\n",
    "pad02 = 1.0\n",
    "lon_d03 = LHctl_d03.lon.values\n",
    "lat_d03 = LHctl_d03.lat.values\n",
    "lon_d02 = LHctl_d02.lon.values\n",
    "lat_d02 = LHctl_d02.lat.values"
   ]
  },
  {
   "cell_type": "markdown",
   "metadata": {
    "ein.tags": "worksheet-0",
    "slideshow": {
     "slide_type": "-"
    }
   },
   "source": [
    "Plot the data using GeoViews with matplotlib.  The plot shows up (correctly) in the area surrounding [Yatir Forest](https://en.wikipedia.org/wiki/Yatir_Forest)."
   ]
  },
  {
   "cell_type": "code",
   "execution_count": null,
   "metadata": {
    "autoscroll": false,
    "ein.hycell": false,
    "ein.tags": "worksheet-0",
    "scrolled": true,
    "slideshow": {
     "slide_type": "-"
    }
   },
   "outputs": [],
   "source": [
    "hv.output(max_frames=ntime)\n",
    "map_LH_ytr_d02, map_LH_ytr_d03 = gt.build_geoviews_comparison(LHytr_d02, LHytr_d03)\n",
    "map_LH_ctl_d02, map_LH_ctl_d03 = gt.build_geoviews_comparison(LHctl_d02, LHytr_d03)"
   ]
  },
  {
   "cell_type": "markdown",
   "metadata": {
    "ein.tags": "worksheet-0",
    "slideshow": {
     "slide_type": "-"
    }
   },
   "source": [
    "TODO: why no variable/group labels on this plot?  Perhaps has to do with nesting warning below."
   ]
  },
  {
   "cell_type": "code",
   "execution_count": null,
   "metadata": {
    "autoscroll": false,
    "ein.hycell": false,
    "ein.tags": "worksheet-0",
    "slideshow": {
     "slide_type": "-"
    }
   },
   "outputs": [],
   "source": [
    "LHmaps = hv.Layout((map_LH_ctl_d02.collate(), \n",
    "                    map_LH_ytr_d02.collate(), \n",
    "                    map_LH_ctl_d03.collate(), \n",
    "                    map_LH_ytr_d03.collate()),\n",
    "                  label='LH (Wm$^{-2}$)').cols(2)"
   ]
  },
  {
   "cell_type": "code",
   "execution_count": null,
   "metadata": {
    "autoscroll": false,
    "ein.hycell": false,
    "ein.tags": "worksheet-0",
    "slideshow": {
     "slide_type": "-"
    }
   },
   "outputs": [],
   "source": [
    "# LHmaps"
   ]
  },
  {
   "cell_type": "markdown",
   "metadata": {
    "ein.tags": "worksheet-0",
    "slideshow": {
     "slide_type": "-"
    }
   },
   "source": [
    "TODO: figure out nesting warning below"
   ]
  },
  {
   "cell_type": "code",
   "execution_count": null,
   "metadata": {
    "autoscroll": false,
    "ein.hycell": false,
    "ein.tags": "worksheet-0",
    "slideshow": {
     "slide_type": "-"
    }
   },
   "outputs": [],
   "source": [
    "# # print(map_LH_ctl_d03) # + map_LH_ytr_d03\n",
    "# # print(map_LH_ctl_d03.collate())\n",
    "# print('1-----')\n",
    "# print(gf.coastline * gv.Dataset(LHytr_d02).to(gv.QuadMesh, groupby='time'))\n",
    "# print('2-----')\n",
    "# print(hv.Overlay((gf.coastline, gv.Dataset(LHytr_d02).to(gv.QuadMesh, groupby='time'))))\n",
    "# # print('3-----')\n",
    "# # print(LHytr_d02)\n",
    "# print('4-----')\n",
    "# print(gv.Dataset(LHytr_d02).to(gv.QuadMesh, groupby='time'))"
   ]
  },
  {
   "cell_type": "code",
   "execution_count": null,
   "metadata": {
    "autoscroll": false,
    "ein.hycell": false,
    "ein.tags": "worksheet-0",
    "slideshow": {
     "slide_type": "-"
    }
   },
   "outputs": [],
   "source": [
    "# LHmaps = hv.Layout((map_LH_ctl_d02.collate(), \n",
    "#             map_LH_ytr_d02.collate(), \n",
    "#                 map_LH_ctl_d03.collate(), \n",
    "#     map_LH_ytr_d03.collate()),\n",
    "#                     label='LH (Wm$^{-2}$)').cols(2)"
   ]
  },
  {
   "cell_type": "markdown",
   "metadata": {},
   "source": [
    "# Sensible Heat #"
   ]
  },
  {
   "cell_type": "markdown",
   "metadata": {
    "ein.tags": "worksheet-0",
    "slideshow": {
     "slide_type": "-"
    }
   },
   "source": [
    "Yatir sensible heat flux in late August 2015 was 368.8 to 434.4 W m$^{-2}$ ([Brugger et al 2018](https://doi.org/10.1007/s10546-018-0371-5). Table 3).  There was a strong diurnal cycle for both sites (forest and desert).  Note the figure units are K m s$^{-1}$.  Figure from [Banergee et al, 2018]([www.atmos-chem-phys.net/18/10025/2018/).\n",
    "            ![Figure 3](./Banergee_etal_ACP_2018_fig3.pdf)"
   ]
  },
  {
   "cell_type": "code",
   "execution_count": null,
   "metadata": {},
   "outputs": [],
   "source": [
    "HFXmean_ytr = HFXytr_d03.mean(dim=('x', 'y'))\n",
    "HFXmean_ctl = HFXctl_d03.mean(dim=('x', 'y'))\n",
    "hv.Curve(HFXmean_ytr).opts(ylim=(350, 440))"
   ]
  },
  {
   "cell_type": "code",
   "execution_count": null,
   "metadata": {},
   "outputs": [],
   "source": [
    "import pandas as pd\n",
    "import seaborn as sns\n",
    "dscombined = xr.concat((HFXytr_d03, HFXctl_d03), dim=pd.Index(['Yatir', 'Control'], name='WRFrun'))\n",
    "hvds = hv.Dataset(dscombined, kdims=['time', 'x', 'y', 'WRFrun'], vdims=['HFX', 'lat', 'lon'])"
   ]
  },
  {
   "cell_type": "code",
   "execution_count": null,
   "metadata": {},
   "outputs": [],
   "source": [
    "HFXmean = dscombined.groupby('WRFrun').mean(dim=['x', 'y'])\n",
    "df = HFXmean.to_dataframe()\n",
    "df.reset_index()\n",
    "sns.set(rc={\"figure.figsize\": (12, 4)})\n",
    "sns.lineplot(x='time', y='HFX', hue='WRFrun', style='WRFrun', data=df.reset_index())"
   ]
  },
  {
   "cell_type": "code",
   "execution_count": null,
   "metadata": {},
   "outputs": [],
   "source": [
    "hv.QuadMesh(hvds.select(WRFrun='Control', time='2015-08-15T23:30:00'), ['lon', 'lat'])"
   ]
  },
  {
   "cell_type": "code",
   "execution_count": null,
   "metadata": {},
   "outputs": [],
   "source": [
    "hv.QuadMesh(hvds.select(WRFrun='Control', time='2015-08-15T23:30:00'), ['lon', 'lat']) + hv.QuadMesh(hvds.select(WRFrun='Yatir', time='2015-08-15T23:30:00'), ['lon', 'lat'])"
   ]
  }
 ],
 "metadata": {
  "kernelspec": {
   "display_name": "Python 3",
   "language": "python",
   "name": "python3"
  },
  "language_info": {
   "codemirror_mode": {
    "name": "ipython",
    "version": 3
   },
   "file_extension": ".py",
   "mimetype": "text/x-python",
   "name": "python",
   "nbconvert_exporter": "python",
   "pygments_lexer": "ipython3",
   "version": "3.7.1"
  },
  "name": "yatir_visualization.ipynb"
 },
 "nbformat": 4,
 "nbformat_minor": 4
}
